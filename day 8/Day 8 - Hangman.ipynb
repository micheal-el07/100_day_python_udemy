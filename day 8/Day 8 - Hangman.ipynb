{
 "cells": [
  {
   "cell_type": "markdown",
   "id": "c7a80e05-e2d6-4d86-8473-fa200d17a915",
   "metadata": {},
   "source": [
    "This is hangman game.\n",
    "Player got 5 life to guess the randomed word.\n",
    "Ikimashou"
   ]
  },
  {
   "cell_type": "code",
   "execution_count": 20,
   "id": "51f561d6-ca75-46d9-810b-9ce333fe25e8",
   "metadata": {},
   "outputs": [
    {
     "name": "stdout",
     "output_type": "stream",
     "text": [
      "arctic\n"
     ]
    }
   ],
   "source": [
    "import random\n",
    "\n",
    "words = [\"saturday\", \"night\", \"colder\", \"north\", \"arctic\"]\n",
    "\n",
    "randomed_word = words[random.randint(0, 4)]\n",
    "print(randomed_word)"
   ]
  },
  {
   "cell_type": "code",
   "execution_count": 21,
   "id": "3ca73ab4-38a8-46f1-ab0a-d859082c5c3e",
   "metadata": {},
   "outputs": [
    {
     "name": "stdout",
     "output_type": "stream",
     "text": [
      "_ _ _ _ _ _\n"
     ]
    }
   ],
   "source": [
    "placeholder = []\n",
    "\n",
    "for i in range(len(randomed_word)):\n",
    "  placeholder.append(\"_\")\n",
    "\n",
    "current_word = \" \".join(placeholder)\n",
    "print(current_word)"
   ]
  },
  {
   "cell_type": "code",
   "execution_count": 22,
   "id": "63dd2c77-d8b3-4bc8-8f71-ba236d2f2b95",
   "metadata": {},
   "outputs": [
    {
     "name": "stdout",
     "output_type": "stream",
     "text": [
      "_ _ _ _ _ _\n",
      "You have 5 life available.\n"
     ]
    },
    {
     "name": "stdin",
     "output_type": "stream",
     "text": [
      "Enter you guess: h\n"
     ]
    },
    {
     "name": "stdout",
     "output_type": "stream",
     "text": [
      "No letter in the word\n",
      "You got 4 more.\n"
     ]
    },
    {
     "name": "stdin",
     "output_type": "stream",
     "text": [
      "Do you want to guess the word?[Yes] or [No] no\n"
     ]
    },
    {
     "name": "stdout",
     "output_type": "stream",
     "text": [
      "_ _ _ _ _ _\n",
      "You have 4 life available.\n"
     ]
    },
    {
     "name": "stdin",
     "output_type": "stream",
     "text": [
      "Enter you guess: a\n"
     ]
    },
    {
     "name": "stdout",
     "output_type": "stream",
     "text": [
      "a _ _ _ _ _\n"
     ]
    },
    {
     "name": "stdin",
     "output_type": "stream",
     "text": [
      "Do you want to guess the word?[Yes] or [No] no\n"
     ]
    },
    {
     "name": "stdout",
     "output_type": "stream",
     "text": [
      "a _ _ _ _ _\n",
      "You have 4 life available.\n"
     ]
    },
    {
     "name": "stdin",
     "output_type": "stream",
     "text": [
      "Enter you guess: t\n"
     ]
    },
    {
     "name": "stdout",
     "output_type": "stream",
     "text": [
      "a _ _ t _ _\n"
     ]
    },
    {
     "name": "stdin",
     "output_type": "stream",
     "text": [
      "Do you want to guess the word?[Yes] or [No] no\n"
     ]
    },
    {
     "name": "stdout",
     "output_type": "stream",
     "text": [
      "a _ _ t _ _\n",
      "You have 4 life available.\n"
     ]
    },
    {
     "name": "stdin",
     "output_type": "stream",
     "text": [
      "Enter you guess: i\n"
     ]
    },
    {
     "name": "stdout",
     "output_type": "stream",
     "text": [
      "a _ _ t i _\n"
     ]
    },
    {
     "name": "stdin",
     "output_type": "stream",
     "text": [
      "Do you want to guess the word?[Yes] or [No] no\n"
     ]
    },
    {
     "name": "stdout",
     "output_type": "stream",
     "text": [
      "a _ _ t i _\n",
      "You have 4 life available.\n"
     ]
    },
    {
     "name": "stdin",
     "output_type": "stream",
     "text": [
      "Enter you guess: c\n"
     ]
    },
    {
     "name": "stdout",
     "output_type": "stream",
     "text": [
      "a _ c t i c\n"
     ]
    },
    {
     "name": "stdin",
     "output_type": "stream",
     "text": [
      "Do you want to guess the word?[Yes] or [No] yes\n",
      "Enter the word: arctic\n"
     ]
    },
    {
     "name": "stdout",
     "output_type": "stream",
     "text": [
      "You win\n"
     ]
    }
   ],
   "source": [
    "lives = 5\n",
    "win = False\n",
    "previous_guess = []\n",
    "\n",
    "while lives > 0 and win == False:\n",
    "    current_word = \" \".join(placeholder)\n",
    "    print(current_word)\n",
    "    print(f'You have {lives} life available.')\n",
    "    player_guess = input(\"Enter you guess:\")\n",
    "    \n",
    "    if player_guess in previous_guess:\n",
    "        print(\"You have already choose the alphabet, choose another alphabet.\")\n",
    "        player_guess = input(\"Enter you guess:\")\n",
    "    else:\n",
    "        previous_guess.append(player_guess)\n",
    "\n",
    "        if player_guess in randomed_word:\n",
    "          for i in enumerate(randomed_word):\n",
    "            if player_guess == i[1]:\n",
    "              placeholder[i[0]] = i[1]\n",
    "          print(\" \".join(placeholder))\n",
    "        else:\n",
    "          print(\"No letter in the word\")\n",
    "          lives -= 1\n",
    "          print(f'You got {lives} more.')\n",
    "        \n",
    "        player_try_predict = input(\"Do you want to guess the word?[Yes] or [No]\")\n",
    "        \n",
    "        if player_try_predict.lower() == \"yes\":\n",
    "          player_predict = input(\"Enter the word:\")\n",
    "        \n",
    "          if player_predict == randomed_word:\n",
    "            win = True\n",
    "            print(\"You win\")\n",
    "            break\n",
    "          else:\n",
    "            lives -= 1\n",
    "            print(f'You got {lives} more.')\n",
    "            # pass_guess.append(player_predict)\n",
    "        else:\n",
    "          continue"
   ]
  },
  {
   "cell_type": "code",
   "execution_count": null,
   "id": "9c012802-0c74-4dcc-8ff3-f38848989262",
   "metadata": {},
   "outputs": [],
   "source": []
  }
 ],
 "metadata": {
  "kernelspec": {
   "display_name": "Python 3 (ipykernel)",
   "language": "python",
   "name": "python3"
  },
  "language_info": {
   "codemirror_mode": {
    "name": "ipython",
    "version": 3
   },
   "file_extension": ".py",
   "mimetype": "text/x-python",
   "name": "python",
   "nbconvert_exporter": "python",
   "pygments_lexer": "ipython3",
   "version": "3.11.7"
  }
 },
 "nbformat": 4,
 "nbformat_minor": 5
}
