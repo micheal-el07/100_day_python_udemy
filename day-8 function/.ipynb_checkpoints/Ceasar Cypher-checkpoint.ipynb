{
 "cells": [
  {
   "cell_type": "code",
   "execution_count": 8,
   "id": "d5d077f4-7dca-4469-a2ac-bc2cc4cae108",
   "metadata": {},
   "outputs": [],
   "source": [
    "def greet(name=\"Default\"):\n",
    "    print(f\"Hello\")\n",
    "    print(\"I am\")\n",
    "    print(name)"
   ]
  },
  {
   "cell_type": "code",
   "execution_count": 9,
   "id": "2fe7b889-2849-4f14-be23-8a9d74808b9e",
   "metadata": {},
   "outputs": [
    {
     "name": "stdout",
     "output_type": "stream",
     "text": [
      "Hello\n",
      "I am\n",
      "Default\n"
     ]
    }
   ],
   "source": [
    "greet()"
   ]
  },
  {
   "cell_type": "code",
   "execution_count": null,
   "id": "bf7c78fa-aa78-4fe7-947a-21ffaeca726a",
   "metadata": {},
   "outputs": [],
   "source": []
  },
  {
   "cell_type": "code",
   "execution_count": 15,
   "id": "e6629fb1-7eff-47bb-a9f8-5bb501bad051",
   "metadata": {},
   "outputs": [],
   "source": [
    "def paint_calc(height, width, cover):\n",
    "    import math\n",
    "    wall_area = math.ceil((height * width) / cover)\n",
    "    print(wall_area)"
   ]
  },
  {
   "cell_type": "code",
   "execution_count": 17,
   "id": "2e4b4f7c-0e06-46c1-b7fa-f4a31b89e324",
   "metadata": {},
   "outputs": [
    {
     "name": "stdin",
     "output_type": "stream",
     "text": [
      " 3\n",
      " 9\n"
     ]
    },
    {
     "name": "stdout",
     "output_type": "stream",
     "text": [
      "6\n"
     ]
    }
   ],
   "source": [
    "test_h = int(input())\n",
    "test_w = int(input())\n",
    "coverage = 5\n",
    "paint_calc(height=test_h, width=test_w, cover=coverage)"
   ]
  },
  {
   "cell_type": "code",
   "execution_count": null,
   "id": "220f69c8-a794-4499-8cd3-e365b6120a33",
   "metadata": {},
   "outputs": [],
   "source": []
  },
  {
   "cell_type": "code",
   "execution_count": null,
   "id": "43f353cf-890b-4d45-acaf-5494283122a8",
   "metadata": {},
   "outputs": [],
   "source": [
    "# Prime number\n",
    "# Number that can only divided by 1 or itself\n",
    "# start dividing with one in a loop until it hit the number itself, \n",
    "# check the remainder, if no remainder then its not prime number,\n",
    "# if it hit any number w/o remainder, then break"
   ]
  },
  {
   "cell_type": "code",
   "execution_count": 66,
   "id": "46041422-549d-40a9-898f-91c57cb173fa",
   "metadata": {},
   "outputs": [
    {
     "name": "stdout",
     "output_type": "stream",
     "text": [
      "1 is prime number\n",
      "2 is prime number\n",
      "3 is prime number\n"
     ]
    }
   ],
   "source": [
    "# number = 17\n",
    "prime = True\n",
    "\n",
    "for number in range (1, 30):\n",
    "    if number > 2:\n",
    "        for i in range(2, number):\n",
    "            if (number % i) != 0:\n",
    "                continue\n",
    "                prime = True\n",
    "            else:\n",
    "                prime = False\n",
    "                break\n",
    "    \n",
    "    if prime:\n",
    "        print(f\"{number} is prime number\")"
   ]
  },
  {
   "cell_type": "code",
   "execution_count": null,
   "id": "44cabe38-2d33-4fd2-b840-5ed9b6fb1c99",
   "metadata": {},
   "outputs": [],
   "source": []
  },
  {
   "cell_type": "code",
   "execution_count": null,
   "id": "0956806e-c721-4963-96cb-07ab9163e953",
   "metadata": {},
   "outputs": [],
   "source": []
  },
  {
   "cell_type": "code",
   "execution_count": null,
   "id": "b4e56021-8989-4430-85d2-cc7a07f1f09d",
   "metadata": {},
   "outputs": [],
   "source": []
  },
  {
   "cell_type": "code",
   "execution_count": null,
   "id": "b8533eb2-8154-482b-a040-a9b735115040",
   "metadata": {},
   "outputs": [],
   "source": []
  },
  {
   "cell_type": "code",
   "execution_count": null,
   "id": "5341d064-c2fa-463e-b534-3897478ca812",
   "metadata": {},
   "outputs": [],
   "source": []
  },
  {
   "cell_type": "code",
   "execution_count": null,
   "id": "0567f636-3ede-4569-aa80-adde8b799ba5",
   "metadata": {},
   "outputs": [],
   "source": []
  }
 ],
 "metadata": {
  "kernelspec": {
   "display_name": "Python 3 (ipykernel)",
   "language": "python",
   "name": "python3"
  },
  "language_info": {
   "codemirror_mode": {
    "name": "ipython",
    "version": 3
   },
   "file_extension": ".py",
   "mimetype": "text/x-python",
   "name": "python",
   "nbconvert_exporter": "python",
   "pygments_lexer": "ipython3",
   "version": "3.11.7"
  }
 },
 "nbformat": 4,
 "nbformat_minor": 5
}
