{
 "cells": [
  {
   "cell_type": "code",
   "execution_count": 8,
   "id": "d5d077f4-7dca-4469-a2ac-bc2cc4cae108",
   "metadata": {},
   "outputs": [],
   "source": [
    "def greet(name=\"Default\"):\n",
    "    print(f\"Hello\")\n",
    "    print(\"I am\")\n",
    "    print(name)"
   ]
  },
  {
   "cell_type": "code",
   "execution_count": 9,
   "id": "2fe7b889-2849-4f14-be23-8a9d74808b9e",
   "metadata": {},
   "outputs": [
    {
     "name": "stdout",
     "output_type": "stream",
     "text": [
      "Hello\n",
      "I am\n",
      "Default\n"
     ]
    }
   ],
   "source": [
    "greet()"
   ]
  },
  {
   "cell_type": "code",
   "execution_count": null,
   "id": "bf7c78fa-aa78-4fe7-947a-21ffaeca726a",
   "metadata": {},
   "outputs": [],
   "source": []
  },
  {
   "cell_type": "code",
   "execution_count": 15,
   "id": "e6629fb1-7eff-47bb-a9f8-5bb501bad051",
   "metadata": {},
   "outputs": [],
   "source": [
    "def paint_calc(height, width, cover):\n",
    "    import math\n",
    "    wall_area = math.ceil((height * width) / cover)\n",
    "    print(wall_area)"
   ]
  },
  {
   "cell_type": "code",
   "execution_count": 17,
   "id": "2e4b4f7c-0e06-46c1-b7fa-f4a31b89e324",
   "metadata": {},
   "outputs": [
    {
     "name": "stdout",
     "output_type": "stream",
     "text": [
      " 3\n",
      " 9\n"
     ]
    },
    {
     "name": "stdout",
     "output_type": "stream",
     "text": [
      "6\n"
     ]
    }
   ],
   "source": [
    "test_h = int(input())\n",
    "test_w = int(input())\n",
    "coverage = 5\n",
    "paint_calc(height=test_h, width=test_w, cover=coverage)"
   ]
  },
  {
   "cell_type": "code",
   "execution_count": null,
   "id": "220f69c8-a794-4499-8cd3-e365b6120a33",
   "metadata": {},
   "outputs": [],
   "source": []
  },
  {
   "cell_type": "code",
   "execution_count": null,
   "id": "43f353cf-890b-4d45-acaf-5494283122a8",
   "metadata": {},
   "outputs": [],
   "source": [
    "# Prime number\n",
    "# Number that can only divided by 1 or itself (so exclude 1)\n",
    "# start dividing with two in a loop until it hit the number itself, \n",
    "# check the remainder, if no remainder then its not prime number,\n",
    "# if it hit any number w/o remainder, then break"
   ]
  },
  {
   "cell_type": "code",
   "execution_count": 28,
   "id": "46041422-549d-40a9-898f-91c57cb173fa",
   "metadata": {},
   "outputs": [],
   "source": [
    "def is_prime(number):\n",
    "    global prime\n",
    "    if number <= 2:\n",
    "        prime = True\n",
    "    else:\n",
    "        for i in range(2, number):\n",
    "            if (number % i) != 0:\n",
    "                prime = True\n",
    "                continue\n",
    "            else:\n",
    "                prime = False\n",
    "                break\n",
    "\n",
    "    if prime:\n",
    "        print(number)"
   ]
  },
  {
   "cell_type": "code",
   "execution_count": 29,
   "id": "44cabe38-2d33-4fd2-b840-5ed9b6fb1c99",
   "metadata": {},
   "outputs": [
    {
     "name": "stdout",
     "output_type": "stream",
     "text": [
      "1\n",
      "2\n",
      "3\n",
      "5\n",
      "7\n",
      "11\n",
      "13\n",
      "17\n",
      "19\n",
      "23\n",
      "29\n",
      "31\n",
      "37\n",
      "41\n",
      "43\n",
      "47\n",
      "53\n",
      "59\n",
      "61\n",
      "67\n",
      "71\n",
      "73\n",
      "79\n",
      "83\n",
      "89\n",
      "97\n"
     ]
    }
   ],
   "source": [
    "\n",
    "count = 1\n",
    "\n",
    "while count < 101:\n",
    "\n",
    "    is_prime(count)\n",
    "    count += 1"
   ]
  },
  {
   "cell_type": "code",
   "execution_count": 30,
   "id": "0956806e-c721-4963-96cb-07ab9163e953",
   "metadata": {},
   "outputs": [
    {
     "name": "stdout",
     "output_type": "stream",
     "text": [
      "1\n",
      "2\n",
      "3\n",
      "5\n",
      "7\n"
     ]
    }
   ],
   "source": [
    "l = [1,2,3,4,5,6,7,8,9,10]\n",
    "\n",
    "for i in l:\n",
    "    is_prime(i)"
   ]
  },
  {
   "cell_type": "code",
   "execution_count": null,
   "id": "b4e56021-8989-4430-85d2-cc7a07f1f09d",
   "metadata": {},
   "outputs": [],
   "source": [
    "\n",
    "\n"
   ]
  },
  {
   "cell_type": "code",
   "execution_count": null,
   "id": "b8533eb2-8154-482b-a040-a9b735115040",
   "metadata": {},
   "outputs": [],
   "source": []
  },
  {
   "cell_type": "code",
   "execution_count": null,
   "id": "5341d064-c2fa-463e-b534-3897478ca812",
   "metadata": {},
   "outputs": [],
   "source": []
  },
  {
   "cell_type": "code",
   "execution_count": null,
   "id": "0567f636-3ede-4569-aa80-adde8b799ba5",
   "metadata": {},
   "outputs": [],
   "source": []
  }
 ],
 "metadata": {
  "kernelspec": {
   "display_name": "Python 3 (ipykernel)",
   "language": "python",
   "name": "python3"
  },
  "language_info": {
   "codemirror_mode": {
    "name": "ipython",
    "version": 3
   },
   "file_extension": ".py",
   "mimetype": "text/x-python",
   "name": "python",
   "nbconvert_exporter": "python",
   "pygments_lexer": "ipython3",
   "version": "3.11.7"
  }
 },
 "nbformat": 4,
 "nbformat_minor": 5
}
