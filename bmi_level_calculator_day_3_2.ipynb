{
  "nbformat": 4,
  "nbformat_minor": 0,
  "metadata": {
    "colab": {
      "provenance": [],
      "authorship_tag": "ABX9TyNp8ngUr/Kcm7v8+T23mBD6",
      "include_colab_link": true
    },
    "kernelspec": {
      "name": "python3",
      "display_name": "Python 3"
    },
    "language_info": {
      "name": "python"
    }
  },
  "cells": [
    {
      "cell_type": "markdown",
      "metadata": {
        "id": "view-in-github",
        "colab_type": "text"
      },
      "source": [
        "<a href=\"https://colab.research.google.com/github/micheal-el07/100_day_python_udemy/blob/main/bmi_level_calculator_day_3_2.ipynb\" target=\"_parent\"><img src=\"https://colab.research.google.com/assets/colab-badge.svg\" alt=\"Open In Colab\"/></a>"
      ]
    },
    {
      "cell_type": "code",
      "execution_count": 6,
      "metadata": {
        "colab": {
          "base_uri": "https://localhost:8080/"
        },
        "id": "G3SZpm2YEIKb",
        "outputId": "fc56b4ec-8f25-4d96-e950-6d701652387f"
      },
      "outputs": [
        {
          "output_type": "stream",
          "name": "stdout",
          "text": [
            "Enter your height(m): 1.77\n",
            "Enter your weight(kg): 63\n",
            "Your BMI is 20.11, you is normal.\n"
          ]
        }
      ],
      "source": [
        "height = float(input(\"Enter your height(m): \"))\n",
        "weight = float(input(\"Enter your weight(kg): \"))\n",
        "\n",
        "bmi = round((weight / (height * height)), 2)\n",
        "\n",
        "if bmi < 18.5:\n",
        "  print(f'Your BMI is {bmi}, you is underweight.')\n",
        "elif bmi >= 18.5 and bmi < 25:\n",
        "  print(f'Your BMI is {bmi}, you is normal.')\n",
        "elif bmi >= 25 and bmi < 30:\n",
        "  print(f'Your BMI is {bmi}, you is overweight.')\n",
        "elif bmi >= 30 and bmi < 35:\n",
        "  print(f'Your BMI is {bmi}, you is obese.')\n",
        "else:\n",
        "  print(f'Your BMI is {bmi}, you is clinically obese.')"
      ]
    }
  ]
}