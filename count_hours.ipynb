{
  "nbformat": 4,
  "nbformat_minor": 0,
  "metadata": {
    "colab": {
      "provenance": [],
      "authorship_tag": "ABX9TyMt9jR1/pMEla5W5e0Gf2ZT",
      "include_colab_link": true
    },
    "kernelspec": {
      "name": "python3",
      "display_name": "Python 3"
    },
    "language_info": {
      "name": "python"
    }
  },
  "cells": [
    {
      "cell_type": "markdown",
      "metadata": {
        "id": "view-in-github",
        "colab_type": "text"
      },
      "source": [
        "<a href=\"https://colab.research.google.com/github/micheal-el07/100_day_python_udemy/blob/main/count_hours.ipynb\" target=\"_parent\"><img src=\"https://colab.research.google.com/assets/colab-badge.svg\" alt=\"Open In Colab\"/></a>"
      ]
    },
    {
      "cell_type": "code",
      "source": [],
      "metadata": {
        "id": "up_LiiE0OX3A"
      },
      "execution_count": 2,
      "outputs": []
    },
    {
      "cell_type": "code",
      "execution_count": 15,
      "metadata": {
        "colab": {
          "base_uri": "https://localhost:8080/"
        },
        "id": "zj_QVLm8OP31",
        "outputId": "4f8fdd5e-20e6-474b-80db-a1d8964441e8"
      },
      "outputs": [
        {
          "name": "stdout",
          "output_type": "stream",
          "text": [
            "Enter time:\n",
            "1 15\n",
            "Total hours is 1 and 15 minutes\n",
            "Do you want to continue?(y or n)y\n",
            "Enter time:\n",
            "2 8\n",
            "Total hours is 3 and 23 minutes\n",
            "Do you want to continue?(y or n)y\n",
            "Enter time:\n",
            "2 4\n",
            "Total hours is 5 and 27 minutes\n",
            "Do you want to continue?(y or n)n\n"
          ]
        }
      ],
      "source": [
        "count = True\n",
        "total = {'hours':0, 'mins':0}\n",
        "\n",
        "while count:\n",
        "  time = input('Enter time:\\n')\n",
        "  hour, min = time.split()\n",
        "  total['hours'] += int(hour)\n",
        "  total['mins'] += int(min)\n",
        "\n",
        "\n",
        "  if total['mins'] > 60:\n",
        "    total['mins'] -= 60\n",
        "    total['hours'] += 1\n",
        "\n",
        "  print(f'Total hours is {total[\"hours\"]} and {total[\"mins\"]} minutes')\n",
        "\n",
        "  again = input(\"Do you want to continue?(y or n)\")\n",
        "\n",
        "  if again == 'y':\n",
        "    count = True\n",
        "  elif again == 'n':\n",
        "    break\n",
        "  else:\n",
        "    print(\"Wrong input, enter again!\")\n",
        "    again = input(\"Do you want to continue?(y or n)\")"
      ]
    },
    {
      "cell_type": "code",
      "source": [],
      "metadata": {
        "id": "MRsFYpzXPsH6"
      },
      "execution_count": null,
      "outputs": []
    }
  ]
}