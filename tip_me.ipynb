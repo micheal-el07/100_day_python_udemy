{
  "nbformat": 4,
  "nbformat_minor": 0,
  "metadata": {
    "colab": {
      "provenance": [],
      "authorship_tag": "ABX9TyO5jhdkHgnTFVgmCwQKk/rd",
      "include_colab_link": true
    },
    "kernelspec": {
      "name": "python3",
      "display_name": "Python 3"
    },
    "language_info": {
      "name": "python"
    }
  },
  "cells": [
    {
      "cell_type": "markdown",
      "metadata": {
        "id": "view-in-github",
        "colab_type": "text"
      },
      "source": [
        "<a href=\"https://colab.research.google.com/github/micheal-el07/100_day_python_udemy/blob/main/tip_me.ipynb\" target=\"_parent\"><img src=\"https://colab.research.google.com/assets/colab-badge.svg\" alt=\"Open In Colab\"/></a>"
      ]
    },
    {
      "cell_type": "code",
      "execution_count": 3,
      "metadata": {
        "id": "kyVG_nUfQY2W"
      },
      "outputs": [],
      "source": [
        "# Tips calculator"
      ]
    },
    {
      "cell_type": "code",
      "source": [
        "print(\"Welcome to the tip calculator.\")\n",
        "bill = float(input(\"What was the total bill?\"))\n",
        "rate = int(input(\"What percentage of tip would you like to give, 10, 12, 15?\"))\n",
        "split = int(input(\"How many people to split the bill into?\"))\n",
        "\n",
        "per_person_rate = round((bill * (1 + (rate / 100)) / split),2)\n",
        "print(f'Each person should pay $:{per_person_rate}')"
      ],
      "metadata": {
        "id": "9XXwnNkNRT97",
        "colab": {
          "base_uri": "https://localhost:8080/"
        },
        "outputId": "55dadca0-f083-420f-f534-67aa4c1d6ac3"
      },
      "execution_count": 2,
      "outputs": [
        {
          "output_type": "stream",
          "name": "stdout",
          "text": [
            "Welcome to the tip calculator.\n",
            "What was the total bill?124.56\n",
            "What percentage of tip would you like to give, 10, 12, 15?12\n",
            "How many people to split the bill into?7\n",
            "Each person should pay :19.93\n"
          ]
        }
      ]
    },
    {
      "cell_type": "code",
      "source": [],
      "metadata": {
        "id": "ZCBQRSMtVFi_"
      },
      "execution_count": null,
      "outputs": []
    }
  ]
}