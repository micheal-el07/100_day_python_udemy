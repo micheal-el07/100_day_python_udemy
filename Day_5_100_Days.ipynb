{
  "nbformat": 4,
  "nbformat_minor": 0,
  "metadata": {
    "colab": {
      "provenance": [],
      "authorship_tag": "ABX9TyNOOjWzAbMS6tnWit3AtMpV",
      "include_colab_link": true
    },
    "kernelspec": {
      "name": "python3",
      "display_name": "Python 3"
    },
    "language_info": {
      "name": "python"
    }
  },
  "cells": [
    {
      "cell_type": "markdown",
      "metadata": {
        "id": "view-in-github",
        "colab_type": "text"
      },
      "source": [
        "<a href=\"https://colab.research.google.com/github/micheal-el07/100_day_python_udemy/blob/main/Day_5_100_Days.ipynb\" target=\"_parent\"><img src=\"https://colab.research.google.com/assets/colab-badge.svg\" alt=\"Open In Colab\"/></a>"
      ]
    },
    {
      "cell_type": "markdown",
      "source": [
        "#### First small task of day 5"
      ],
      "metadata": {
        "id": "z57mlZQC2NSA"
      }
    },
    {
      "cell_type": "code",
      "source": [
        "stud_height = \"154 167 178 174 183 163\"\n",
        "\"156 178 165 171 187\"\n",
        "\"151 145 179\""
      ],
      "metadata": {
        "id": "7DQ3jp1uybKW"
      },
      "execution_count": 16,
      "outputs": []
    },
    {
      "cell_type": "code",
      "source": [
        "students_height = [int(x) for x in input(\"Enter students height lists: \\n\").split()]\n",
        "\n",
        "sum = 0\n",
        "for height in students_height:\n",
        "  sum += height\n",
        "\n",
        "avg_height = round((sum / len(students_height)), 2)\n",
        "\n",
        "print(f'\\nTotal height is {sum}.')\n",
        "print(f'Total number of students is {len(students_height)}.')\n",
        "print(f'Average height of students is {int(avg_height)} cm.')"
      ],
      "metadata": {
        "colab": {
          "base_uri": "https://localhost:8080/"
        },
        "id": "phZ5Eh1SybIL",
        "outputId": "2d2e8d91-bd88-4262-a33c-8f4adfef4ac6"
      },
      "execution_count": 29,
      "outputs": [
        {
          "output_type": "stream",
          "name": "stdout",
          "text": [
            "Enter students height lists: \n",
            "151 145 179\n",
            "\n",
            "Total height is 475.\n",
            "Total number of students is 3.\n",
            "Average height of students is 158 cm.\n"
          ]
        }
      ]
    },
    {
      "cell_type": "code",
      "source": [],
      "metadata": {
        "id": "5zCFbS1-ybFi"
      },
      "execution_count": 25,
      "outputs": []
    },
    {
      "cell_type": "markdown",
      "source": [
        "#### Second small task of day 5"
      ],
      "metadata": {
        "id": "6M8vtdr83Crh"
      }
    },
    {
      "cell_type": "code",
      "source": [
        "student_scores = \"78, 65, 89, 86, 55, 91, 64, 89\"\n",
        "\"78 65 89 86 55 91 64 89\""
      ],
      "metadata": {
        "id": "0psPRVrz3KBQ"
      },
      "execution_count": null,
      "outputs": []
    },
    {
      "cell_type": "code",
      "source": [
        "student_score_list = [int(x) for x in input(\"Enter students score:\\n\").split()]\n",
        "\n",
        "max = student_score_list[0]\n",
        "\n",
        "for i in student_score_list:\n",
        "  if i > max:\n",
        "    max = i\n",
        "\n",
        "print(f\"\\nThe highest score in the class is {max}.\")"
      ],
      "metadata": {
        "colab": {
          "base_uri": "https://localhost:8080/"
        },
        "id": "aNC_1D033J-p",
        "outputId": "ad773d0e-b4b7-4fb1-817f-ee113053a23d"
      },
      "execution_count": 32,
      "outputs": [
        {
          "output_type": "stream",
          "name": "stdout",
          "text": [
            "Enter students score:\n",
            "78 65 89 86 55 91 64 89\n",
            "\n",
            "The highest score in the class is 91.\n"
          ]
        }
      ]
    },
    {
      "cell_type": "code",
      "source": [],
      "metadata": {
        "id": "sAYC71T93J8d"
      },
      "execution_count": null,
      "outputs": []
    },
    {
      "cell_type": "markdown",
      "source": [
        "#### Third small task of day 5"
      ],
      "metadata": {
        "id": "hvaPstEz3DDN"
      }
    },
    {
      "cell_type": "code",
      "source": [
        "num = int(input(\"Enter max range:\\n\"))\n",
        "sum = 0\n",
        "\n",
        "for x in range(0, num+1, 2):\n",
        "  print(x)\n",
        "  print(f'sum is {sum}')\n",
        "  sum += x\n",
        "\n",
        "print(sum)"
      ],
      "metadata": {
        "colab": {
          "base_uri": "https://localhost:8080/"
        },
        "id": "X1TU5OUZ3Kw6",
        "outputId": "ab5c3f92-0a9f-4004-a79a-057c30e4e41d"
      },
      "execution_count": 40,
      "outputs": [
        {
          "output_type": "stream",
          "name": "stdout",
          "text": [
            "Enter max range:\n",
            "10\n",
            "0\n",
            "sum is 0\n",
            "2\n",
            "sum is 0\n",
            "4\n",
            "sum is 2\n",
            "6\n",
            "sum is 6\n",
            "8\n",
            "sum is 12\n",
            "10\n",
            "sum is 20\n",
            "30\n"
          ]
        }
      ]
    },
    {
      "cell_type": "code",
      "source": [],
      "metadata": {
        "id": "iI-LZ3FW3Kug"
      },
      "execution_count": null,
      "outputs": []
    },
    {
      "cell_type": "code",
      "source": [],
      "metadata": {
        "id": "sQ-jyTyO3KsD"
      },
      "execution_count": null,
      "outputs": []
    },
    {
      "cell_type": "markdown",
      "source": [
        "#### Fourth small task of day 5"
      ],
      "metadata": {
        "id": "y7yv7GZh3DJh"
      }
    },
    {
      "cell_type": "code",
      "source": [
        "for i in range(1, 101):\n",
        "  if i % 5 == 0 and i % 3 == 0:\n",
        "    print(\"Fizzbuzz\")\n",
        "  elif i % 3 == 0:\n",
        "    print(\"Fizz\")\n",
        "  elif i % 5 == 0:\n",
        "    print(\"Buzz\")\n",
        "  else:\n",
        "    print(i)"
      ],
      "metadata": {
        "colab": {
          "base_uri": "https://localhost:8080/"
        },
        "id": "l17t76gZybCv",
        "outputId": "360362ab-1563-4eb4-ae48-0e685c0ceb7b"
      },
      "execution_count": 41,
      "outputs": [
        {
          "output_type": "stream",
          "name": "stdout",
          "text": [
            "1\n",
            "2\n",
            "Fizz\n",
            "4\n",
            "Buzz\n",
            "Fizz\n",
            "7\n",
            "8\n",
            "Fizz\n",
            "Buzz\n",
            "11\n",
            "Fizz\n",
            "13\n",
            "14\n",
            "Fizzbuzz\n",
            "16\n",
            "17\n",
            "Fizz\n",
            "19\n",
            "Buzz\n",
            "Fizz\n",
            "22\n",
            "23\n",
            "Fizz\n",
            "Buzz\n",
            "26\n",
            "Fizz\n",
            "28\n",
            "29\n",
            "Fizzbuzz\n",
            "31\n",
            "32\n",
            "Fizz\n",
            "34\n",
            "Buzz\n",
            "Fizz\n",
            "37\n",
            "38\n",
            "Fizz\n",
            "Buzz\n",
            "41\n",
            "Fizz\n",
            "43\n",
            "44\n",
            "Fizzbuzz\n",
            "46\n",
            "47\n",
            "Fizz\n",
            "49\n",
            "Buzz\n",
            "Fizz\n",
            "52\n",
            "53\n",
            "Fizz\n",
            "Buzz\n",
            "56\n",
            "Fizz\n",
            "58\n",
            "59\n",
            "Fizzbuzz\n",
            "61\n",
            "62\n",
            "Fizz\n",
            "64\n",
            "Buzz\n",
            "Fizz\n",
            "67\n",
            "68\n",
            "Fizz\n",
            "Buzz\n",
            "71\n",
            "Fizz\n",
            "73\n",
            "74\n",
            "Fizzbuzz\n",
            "76\n",
            "77\n",
            "Fizz\n",
            "79\n",
            "Buzz\n",
            "Fizz\n",
            "82\n",
            "83\n",
            "Fizz\n",
            "Buzz\n",
            "86\n",
            "Fizz\n",
            "88\n",
            "89\n",
            "Fizzbuzz\n",
            "91\n",
            "92\n",
            "Fizz\n",
            "94\n",
            "Buzz\n",
            "Fizz\n",
            "97\n",
            "98\n",
            "Fizz\n",
            "Buzz\n"
          ]
        }
      ]
    },
    {
      "cell_type": "code",
      "source": [],
      "metadata": {
        "id": "Sfv72-PSybAZ"
      },
      "execution_count": null,
      "outputs": []
    },
    {
      "cell_type": "code",
      "source": [],
      "metadata": {
        "id": "BmvjllbPJqws"
      },
      "execution_count": null,
      "outputs": []
    },
    {
      "cell_type": "markdown",
      "source": [
        "## Final project day 5"
      ],
      "metadata": {
        "id": "h-7Yu0nf3Lzs"
      }
    },
    {
      "cell_type": "code",
      "source": [
        "s = \"a b c d e f g h i j k l m n o p q r s t u v w x y z A B C D E F G H I J K L M N O P Q R S T U V W X Y Z\""
      ],
      "metadata": {
        "id": "Rx3IKHIPJck2"
      },
      "execution_count": 43,
      "outputs": []
    },
    {
      "cell_type": "code",
      "execution_count": null,
      "metadata": {
        "id": "29aw2ZXUyTXq"
      },
      "outputs": [],
      "source": [
        "print(\"Welcome to PyPass Generator.\")"
      ]
    },
    {
      "cell_type": "code",
      "source": [
        "import random"
      ],
      "metadata": {
        "id": "j_etre8Z3SNW"
      },
      "execution_count": 59,
      "outputs": []
    },
    {
      "cell_type": "code",
      "source": [
        "letters = [x for x in s.split()]"
      ],
      "metadata": {
        "id": "ZmU-lpVW3SK1"
      },
      "execution_count": 44,
      "outputs": []
    },
    {
      "cell_type": "code",
      "source": [
        "len(letters)"
      ],
      "metadata": {
        "colab": {
          "base_uri": "https://localhost:8080/"
        },
        "id": "JlekLi-Q3SIG",
        "outputId": "6bf10e94-f9f9-4f02-ebcb-5f71fdcfdffa"
      },
      "execution_count": 46,
      "outputs": [
        {
          "output_type": "execute_result",
          "data": {
            "text/plain": [
              "52"
            ]
          },
          "metadata": {},
          "execution_count": 46
        }
      ]
    },
    {
      "cell_type": "code",
      "source": [
        "number = [str(x) for x in range(0,10)]"
      ],
      "metadata": {
        "id": "lZEHaeIIJ2lI"
      },
      "execution_count": 49,
      "outputs": []
    },
    {
      "cell_type": "code",
      "source": [
        "number"
      ],
      "metadata": {
        "colab": {
          "base_uri": "https://localhost:8080/"
        },
        "id": "Hh1yUYWkKY18",
        "outputId": "50c57aa1-e2af-4e15-ce41-09f05518e24a"
      },
      "execution_count": 50,
      "outputs": [
        {
          "output_type": "execute_result",
          "data": {
            "text/plain": [
              "['0', '1', '2', '3', '4', '5', '6', '7', '8', '9']"
            ]
          },
          "metadata": {},
          "execution_count": 50
        }
      ]
    },
    {
      "cell_type": "code",
      "source": [
        "l = \"! # $ % & * ( ) +\""
      ],
      "metadata": {
        "id": "-B5Mfep1Kk6Q"
      },
      "execution_count": 56,
      "outputs": []
    },
    {
      "cell_type": "code",
      "source": [
        "symbols = [x for x in l.split()]"
      ],
      "metadata": {
        "id": "0twJeqayKZ_j"
      },
      "execution_count": 57,
      "outputs": []
    },
    {
      "cell_type": "code",
      "source": [
        "symbols"
      ],
      "metadata": {
        "colab": {
          "base_uri": "https://localhost:8080/"
        },
        "id": "JI2f4i46KuIh",
        "outputId": "30b6b0f4-9469-4f26-ae4c-418122bec17b"
      },
      "execution_count": 58,
      "outputs": [
        {
          "output_type": "execute_result",
          "data": {
            "text/plain": [
              "['!', '#', '$', '%', '&', '*', '(', ')', '+']"
            ]
          },
          "metadata": {},
          "execution_count": 58
        }
      ]
    },
    {
      "cell_type": "code",
      "source": [
        "nr_len = int(input(\"How many letters would you like your password have?\\n\"))"
      ],
      "metadata": {
        "colab": {
          "base_uri": "https://localhost:8080/"
        },
        "id": "B2SEtlDZKvhD",
        "outputId": "c91f6922-f291-4558-f054-75871b23f377"
      },
      "execution_count": 67,
      "outputs": [
        {
          "name": "stdout",
          "output_type": "stream",
          "text": [
            "How many letters would you like your password have?\n",
            "8\n"
          ]
        }
      ]
    },
    {
      "cell_type": "code",
      "source": [
        "nr_sym = int(input(\"How many symbols would you like?\\n\"))"
      ],
      "metadata": {
        "id": "kfkgCeqYRogU"
      },
      "execution_count": null,
      "outputs": []
    },
    {
      "cell_type": "code",
      "source": [
        "nr_num = int(input(\"How many numbers would you like?\\n\"))"
      ],
      "metadata": {
        "id": "ICT0n5BMRodx"
      },
      "execution_count": null,
      "outputs": []
    },
    {
      "cell_type": "code",
      "source": [
        "count = 0\n",
        "pass_letters = []\n",
        "for i in range(1, nr_len+1):\n",
        "  pass_letters.append(random.choice(letters))"
      ],
      "metadata": {
        "id": "SJYS5oEIRobM"
      },
      "execution_count": 71,
      "outputs": []
    },
    {
      "cell_type": "code",
      "source": [
        "pass_letters"
      ],
      "metadata": {
        "colab": {
          "base_uri": "https://localhost:8080/"
        },
        "id": "wXwhaMzoTkt8",
        "outputId": "e51fed84-1f37-43dd-c132-c1f3e224af64"
      },
      "execution_count": 72,
      "outputs": [
        {
          "output_type": "execute_result",
          "data": {
            "text/plain": [
              "['p', 'A', 'e', 'O', 'y', 'M', 'R', 'E']"
            ]
          },
          "metadata": {},
          "execution_count": 72
        }
      ]
    },
    {
      "cell_type": "code",
      "source": [],
      "metadata": {
        "id": "t-kLk7BEUssG"
      },
      "execution_count": null,
      "outputs": []
    },
    {
      "cell_type": "code",
      "source": [],
      "metadata": {
        "id": "Xh38uDS2Uspc"
      },
      "execution_count": null,
      "outputs": []
    },
    {
      "cell_type": "code",
      "source": [],
      "metadata": {
        "id": "FBhfPpyGUsnL"
      },
      "execution_count": null,
      "outputs": []
    },
    {
      "cell_type": "code",
      "source": [],
      "metadata": {
        "id": "NGAmkP7_Uskc"
      },
      "execution_count": null,
      "outputs": []
    },
    {
      "cell_type": "code",
      "source": [],
      "metadata": {
        "id": "6WZyOFnaUsh7"
      },
      "execution_count": null,
      "outputs": []
    },
    {
      "cell_type": "code",
      "source": [],
      "metadata": {
        "id": "fN46tK9kUsdZ"
      },
      "execution_count": null,
      "outputs": []
    },
    {
      "cell_type": "code",
      "source": [
        "letters.random()"
      ],
      "metadata": {
        "colab": {
          "base_uri": "https://localhost:8080/",
          "height": 176
        },
        "id": "I7wurA-IRoYt",
        "outputId": "ca93758c-5323-411d-d88a-e82a8c6136fa"
      },
      "execution_count": 60,
      "outputs": [
        {
          "output_type": "error",
          "ename": "AttributeError",
          "evalue": "ignored",
          "traceback": [
            "\u001b[0;31m---------------------------------------------------------------------------\u001b[0m",
            "\u001b[0;31mAttributeError\u001b[0m                            Traceback (most recent call last)",
            "\u001b[0;32m<ipython-input-60-f28f6ad3b948>\u001b[0m in \u001b[0;36m<cell line: 1>\u001b[0;34m()\u001b[0m\n\u001b[0;32m----> 1\u001b[0;31m \u001b[0mletters\u001b[0m\u001b[0;34m.\u001b[0m\u001b[0mrandom\u001b[0m\u001b[0;34m(\u001b[0m\u001b[0;34m)\u001b[0m\u001b[0;34m\u001b[0m\u001b[0;34m\u001b[0m\u001b[0m\n\u001b[0m",
            "\u001b[0;31mAttributeError\u001b[0m: 'list' object has no attribute 'random'"
          ]
        }
      ]
    },
    {
      "cell_type": "code",
      "source": [
        "a = random.choice(letters)"
      ],
      "metadata": {
        "id": "bibJAsN-Shp1"
      },
      "execution_count": 64,
      "outputs": []
    },
    {
      "cell_type": "code",
      "source": [
        "a"
      ],
      "metadata": {
        "colab": {
          "base_uri": "https://localhost:8080/",
          "height": 35
        },
        "id": "7qeuiqC-SkLd",
        "outputId": "bf9181f2-a958-49b0-9669-e929c9a45d33"
      },
      "execution_count": 65,
      "outputs": [
        {
          "output_type": "execute_result",
          "data": {
            "text/plain": [
              "'I'"
            ],
            "application/vnd.google.colaboratory.intrinsic+json": {
              "type": "string"
            }
          },
          "metadata": {},
          "execution_count": 65
        }
      ]
    },
    {
      "cell_type": "code",
      "source": [
        "def pick_A():\n",
        "  return \"A\"\n",
        "\n",
        "def pick_B():\n",
        "  return \"B\"\n",
        "\n",
        "def pick_C():\n",
        "  return \"C\""
      ],
      "metadata": {
        "id": "qeWdj3PNS10z"
      },
      "execution_count": 73,
      "outputs": []
    },
    {
      "cell_type": "code",
      "source": [
        "fx_list = [pick_A, pick_B, pick_C]"
      ],
      "metadata": {
        "id": "qKBFEMvST7FQ"
      },
      "execution_count": 75,
      "outputs": []
    },
    {
      "cell_type": "code",
      "source": [
        "pk = random.choice(fx_list)\n",
        "print(pk())"
      ],
      "metadata": {
        "colab": {
          "base_uri": "https://localhost:8080/"
        },
        "id": "xpUMvXy0UDFI",
        "outputId": "6450b89c-b76c-4f78-96c1-f98ebbb4c3e4"
      },
      "execution_count": 78,
      "outputs": [
        {
          "output_type": "stream",
          "name": "stdout",
          "text": [
            "B\n"
          ]
        }
      ]
    },
    {
      "cell_type": "code",
      "source": [],
      "metadata": {
        "id": "SaHTfwYPUG87"
      },
      "execution_count": null,
      "outputs": []
    }
  ]
}