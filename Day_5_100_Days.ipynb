{
  "nbformat": 4,
  "nbformat_minor": 0,
  "metadata": {
    "colab": {
      "provenance": [],
      "authorship_tag": "ABX9TyPUf3rMeq4Mx+ZEPyuA7Fq4",
      "include_colab_link": true
    },
    "kernelspec": {
      "name": "python3",
      "display_name": "Python 3"
    },
    "language_info": {
      "name": "python"
    }
  },
  "cells": [
    {
      "cell_type": "markdown",
      "metadata": {
        "id": "view-in-github",
        "colab_type": "text"
      },
      "source": [
        "<a href=\"https://colab.research.google.com/github/micheal-el07/100_day_python_udemy/blob/main/Day_5_100_Days.ipynb\" target=\"_parent\"><img src=\"https://colab.research.google.com/assets/colab-badge.svg\" alt=\"Open In Colab\"/></a>"
      ]
    },
    {
      "cell_type": "markdown",
      "source": [
        "#### First small task of day 5"
      ],
      "metadata": {
        "id": "z57mlZQC2NSA"
      }
    },
    {
      "cell_type": "code",
      "source": [
        "stud_height = \"154 167 178 174 183 163\"\n",
        "\"156 178 165 171 187\"\n",
        "\"151 145 179\""
      ],
      "metadata": {
        "id": "7DQ3jp1uybKW"
      },
      "execution_count": null,
      "outputs": []
    },
    {
      "cell_type": "code",
      "source": [
        "students_height = [int(x) for x in input(\"Enter students height lists: \\n\").split()]\n",
        "\n",
        "sum = 0\n",
        "for height in students_height:\n",
        "  sum += height\n",
        "\n",
        "avg_height = round((sum / len(students_height)), 2)\n",
        "\n",
        "print(f'\\nTotal height is {sum}.')\n",
        "print(f'Total number of students is {len(students_height)}.')\n",
        "print(f'Average height of students is {int(avg_height)} cm.')"
      ],
      "metadata": {
        "colab": {
          "base_uri": "https://localhost:8080/"
        },
        "id": "phZ5Eh1SybIL",
        "outputId": "2d2e8d91-bd88-4262-a33c-8f4adfef4ac6"
      },
      "execution_count": null,
      "outputs": [
        {
          "output_type": "stream",
          "name": "stdout",
          "text": [
            "Enter students height lists: \n",
            "151 145 179\n",
            "\n",
            "Total height is 475.\n",
            "Total number of students is 3.\n",
            "Average height of students is 158 cm.\n"
          ]
        }
      ]
    },
    {
      "cell_type": "code",
      "source": [],
      "metadata": {
        "id": "5zCFbS1-ybFi"
      },
      "execution_count": null,
      "outputs": []
    },
    {
      "cell_type": "markdown",
      "source": [
        "#### Second small task of day 5"
      ],
      "metadata": {
        "id": "6M8vtdr83Crh"
      }
    },
    {
      "cell_type": "code",
      "source": [
        "student_scores = \"78, 65, 89, 86, 55, 91, 64, 89\"\n",
        "\"78 65 89 86 55 91 64 89\""
      ],
      "metadata": {
        "id": "0psPRVrz3KBQ"
      },
      "execution_count": null,
      "outputs": []
    },
    {
      "cell_type": "code",
      "source": [
        "student_score_list = [int(x) for x in input(\"Enter students score:\\n\").split()]\n",
        "\n",
        "max = student_score_list[0]\n",
        "\n",
        "for i in student_score_list:\n",
        "  if i > max:\n",
        "    max = i\n",
        "\n",
        "print(f\"\\nThe highest score in the class is {max}.\")"
      ],
      "metadata": {
        "colab": {
          "base_uri": "https://localhost:8080/"
        },
        "id": "aNC_1D033J-p",
        "outputId": "ad773d0e-b4b7-4fb1-817f-ee113053a23d"
      },
      "execution_count": null,
      "outputs": [
        {
          "output_type": "stream",
          "name": "stdout",
          "text": [
            "Enter students score:\n",
            "78 65 89 86 55 91 64 89\n",
            "\n",
            "The highest score in the class is 91.\n"
          ]
        }
      ]
    },
    {
      "cell_type": "code",
      "source": [],
      "metadata": {
        "id": "sAYC71T93J8d"
      },
      "execution_count": null,
      "outputs": []
    },
    {
      "cell_type": "markdown",
      "source": [
        "#### Third small task of day 5"
      ],
      "metadata": {
        "id": "hvaPstEz3DDN"
      }
    },
    {
      "cell_type": "code",
      "source": [
        "num = int(input(\"Enter max range:\\n\"))\n",
        "sum = 0\n",
        "\n",
        "for x in range(0, num+1, 2):\n",
        "  print(x)\n",
        "  print(f'sum is {sum}')\n",
        "  sum += x\n",
        "\n",
        "print(sum)"
      ],
      "metadata": {
        "colab": {
          "base_uri": "https://localhost:8080/"
        },
        "id": "X1TU5OUZ3Kw6",
        "outputId": "ab5c3f92-0a9f-4004-a79a-057c30e4e41d"
      },
      "execution_count": null,
      "outputs": [
        {
          "output_type": "stream",
          "name": "stdout",
          "text": [
            "Enter max range:\n",
            "10\n",
            "0\n",
            "sum is 0\n",
            "2\n",
            "sum is 0\n",
            "4\n",
            "sum is 2\n",
            "6\n",
            "sum is 6\n",
            "8\n",
            "sum is 12\n",
            "10\n",
            "sum is 20\n",
            "30\n"
          ]
        }
      ]
    },
    {
      "cell_type": "code",
      "source": [],
      "metadata": {
        "id": "iI-LZ3FW3Kug"
      },
      "execution_count": null,
      "outputs": []
    },
    {
      "cell_type": "code",
      "source": [],
      "metadata": {
        "id": "sQ-jyTyO3KsD"
      },
      "execution_count": null,
      "outputs": []
    },
    {
      "cell_type": "markdown",
      "source": [
        "#### Fourth small task of day 5"
      ],
      "metadata": {
        "id": "y7yv7GZh3DJh"
      }
    },
    {
      "cell_type": "code",
      "source": [
        "for i in range(1, 101):\n",
        "  if i % 5 == 0 and i % 3 == 0:\n",
        "    print(\"Fizzbuzz\")\n",
        "  elif i % 3 == 0:\n",
        "    print(\"Fizz\")\n",
        "  elif i % 5 == 0:\n",
        "    print(\"Buzz\")\n",
        "  else:\n",
        "    print(i)"
      ],
      "metadata": {
        "colab": {
          "base_uri": "https://localhost:8080/"
        },
        "id": "l17t76gZybCv",
        "outputId": "360362ab-1563-4eb4-ae48-0e685c0ceb7b"
      },
      "execution_count": null,
      "outputs": [
        {
          "output_type": "stream",
          "name": "stdout",
          "text": [
            "1\n",
            "2\n",
            "Fizz\n",
            "4\n",
            "Buzz\n",
            "Fizz\n",
            "7\n",
            "8\n",
            "Fizz\n",
            "Buzz\n",
            "11\n",
            "Fizz\n",
            "13\n",
            "14\n",
            "Fizzbuzz\n",
            "16\n",
            "17\n",
            "Fizz\n",
            "19\n",
            "Buzz\n",
            "Fizz\n",
            "22\n",
            "23\n",
            "Fizz\n",
            "Buzz\n",
            "26\n",
            "Fizz\n",
            "28\n",
            "29\n",
            "Fizzbuzz\n",
            "31\n",
            "32\n",
            "Fizz\n",
            "34\n",
            "Buzz\n",
            "Fizz\n",
            "37\n",
            "38\n",
            "Fizz\n",
            "Buzz\n",
            "41\n",
            "Fizz\n",
            "43\n",
            "44\n",
            "Fizzbuzz\n",
            "46\n",
            "47\n",
            "Fizz\n",
            "49\n",
            "Buzz\n",
            "Fizz\n",
            "52\n",
            "53\n",
            "Fizz\n",
            "Buzz\n",
            "56\n",
            "Fizz\n",
            "58\n",
            "59\n",
            "Fizzbuzz\n",
            "61\n",
            "62\n",
            "Fizz\n",
            "64\n",
            "Buzz\n",
            "Fizz\n",
            "67\n",
            "68\n",
            "Fizz\n",
            "Buzz\n",
            "71\n",
            "Fizz\n",
            "73\n",
            "74\n",
            "Fizzbuzz\n",
            "76\n",
            "77\n",
            "Fizz\n",
            "79\n",
            "Buzz\n",
            "Fizz\n",
            "82\n",
            "83\n",
            "Fizz\n",
            "Buzz\n",
            "86\n",
            "Fizz\n",
            "88\n",
            "89\n",
            "Fizzbuzz\n",
            "91\n",
            "92\n",
            "Fizz\n",
            "94\n",
            "Buzz\n",
            "Fizz\n",
            "97\n",
            "98\n",
            "Fizz\n",
            "Buzz\n"
          ]
        }
      ]
    },
    {
      "cell_type": "code",
      "source": [],
      "metadata": {
        "id": "Sfv72-PSybAZ"
      },
      "execution_count": null,
      "outputs": []
    },
    {
      "cell_type": "code",
      "source": [],
      "metadata": {
        "id": "BmvjllbPJqws"
      },
      "execution_count": null,
      "outputs": []
    },
    {
      "cell_type": "markdown",
      "source": [
        "## Final project day 5"
      ],
      "metadata": {
        "id": "h-7Yu0nf3Lzs"
      }
    },
    {
      "cell_type": "code",
      "source": [
        "s = \"a b c d e f g h i j k l m n o p q r s t u v w x y z A B C D E F G H I J K L M N O P Q R S T U V W X Y Z\""
      ],
      "metadata": {
        "id": "Rx3IKHIPJck2"
      },
      "execution_count": null,
      "outputs": []
    },
    {
      "cell_type": "code",
      "execution_count": null,
      "metadata": {
        "id": "29aw2ZXUyTXq"
      },
      "outputs": [],
      "source": [
        "print(\"Welcome to PyPass Generator.\")"
      ]
    },
    {
      "cell_type": "code",
      "source": [
        "import random"
      ],
      "metadata": {
        "id": "j_etre8Z3SNW"
      },
      "execution_count": null,
      "outputs": []
    },
    {
      "cell_type": "code",
      "source": [
        "letters = [x for x in s.split()]"
      ],
      "metadata": {
        "id": "ZmU-lpVW3SK1"
      },
      "execution_count": null,
      "outputs": []
    },
    {
      "cell_type": "code",
      "source": [
        "len(letters)"
      ],
      "metadata": {
        "colab": {
          "base_uri": "https://localhost:8080/"
        },
        "id": "JlekLi-Q3SIG",
        "outputId": "6bf10e94-f9f9-4f02-ebcb-5f71fdcfdffa"
      },
      "execution_count": null,
      "outputs": [
        {
          "output_type": "execute_result",
          "data": {
            "text/plain": [
              "52"
            ]
          },
          "metadata": {},
          "execution_count": 46
        }
      ]
    },
    {
      "cell_type": "code",
      "source": [
        "numbers = [str(x) for x in range(0,10)]"
      ],
      "metadata": {
        "id": "lZEHaeIIJ2lI"
      },
      "execution_count": null,
      "outputs": []
    },
    {
      "cell_type": "code",
      "source": [
        "numbers"
      ],
      "metadata": {
        "colab": {
          "base_uri": "https://localhost:8080/"
        },
        "id": "Hh1yUYWkKY18",
        "outputId": "8d52b4d3-6478-4e1b-8b02-8512f4319ea1"
      },
      "execution_count": null,
      "outputs": [
        {
          "output_type": "execute_result",
          "data": {
            "text/plain": [
              "['0', '1', '2', '3', '4', '5', '6', '7', '8', '9']"
            ]
          },
          "metadata": {},
          "execution_count": 80
        }
      ]
    },
    {
      "cell_type": "code",
      "source": [
        "l = \"! # $ % & * ( ) +\""
      ],
      "metadata": {
        "id": "-B5Mfep1Kk6Q"
      },
      "execution_count": null,
      "outputs": []
    },
    {
      "cell_type": "code",
      "source": [
        "symbols = [x for x in l.split()]"
      ],
      "metadata": {
        "id": "0twJeqayKZ_j"
      },
      "execution_count": null,
      "outputs": []
    },
    {
      "cell_type": "code",
      "source": [
        "symbols"
      ],
      "metadata": {
        "colab": {
          "base_uri": "https://localhost:8080/"
        },
        "id": "JI2f4i46KuIh",
        "outputId": "30b6b0f4-9469-4f26-ae4c-418122bec17b"
      },
      "execution_count": null,
      "outputs": [
        {
          "output_type": "execute_result",
          "data": {
            "text/plain": [
              "['!', '#', '$', '%', '&', '*', '(', ')', '+']"
            ]
          },
          "metadata": {},
          "execution_count": 58
        }
      ]
    },
    {
      "cell_type": "code",
      "source": [
        "nr_len = int(input(\"How many letters would you like your password have?\\n\"))"
      ],
      "metadata": {
        "colab": {
          "base_uri": "https://localhost:8080/"
        },
        "id": "B2SEtlDZKvhD",
        "outputId": "c91f6922-f291-4558-f054-75871b23f377"
      },
      "execution_count": null,
      "outputs": [
        {
          "name": "stdout",
          "output_type": "stream",
          "text": [
            "How many letters would you like your password have?\n",
            "8\n"
          ]
        }
      ]
    },
    {
      "cell_type": "code",
      "source": [
        "nr_sym = int(input(\"How many symbols would you like?\\n\"))"
      ],
      "metadata": {
        "colab": {
          "base_uri": "https://localhost:8080/"
        },
        "id": "kfkgCeqYRogU",
        "outputId": "ffca73ad-6a95-4bb9-8850-6694bd2576a8"
      },
      "execution_count": null,
      "outputs": [
        {
          "name": "stdout",
          "output_type": "stream",
          "text": [
            "How many symbols would you like?\n",
            "2\n"
          ]
        }
      ]
    },
    {
      "cell_type": "code",
      "source": [
        "nr_num = int(input(\"How many numbers would you like?\\n\"))"
      ],
      "metadata": {
        "colab": {
          "base_uri": "https://localhost:8080/"
        },
        "id": "ICT0n5BMRodx",
        "outputId": "f02dfa33-25c8-43b8-e3ba-3f2c009b944c"
      },
      "execution_count": null,
      "outputs": [
        {
          "name": "stdout",
          "output_type": "stream",
          "text": [
            "How many numbers would you like?\n",
            "3\n"
          ]
        }
      ]
    },
    {
      "cell_type": "code",
      "source": [
        "count = 0\n",
        "pass_letters = []\n",
        "for i in range(1, nr_len+1):\n",
        "  pass_letters.append(random.choice(letters))\n",
        "\n",
        "pass_letters"
      ],
      "metadata": {
        "colab": {
          "base_uri": "https://localhost:8080/"
        },
        "id": "SJYS5oEIRobM",
        "outputId": "07335ece-1341-475a-b86d-544c59a4750e"
      },
      "execution_count": null,
      "outputs": [
        {
          "output_type": "execute_result",
          "data": {
            "text/plain": [
              "['B', 'C', 'o', 'e', 'O', 'F', 'b', 'j']"
            ]
          },
          "metadata": {},
          "execution_count": 81
        }
      ]
    },
    {
      "cell_type": "code",
      "source": [
        "count = 0\n",
        "pass_sym = []\n",
        "for j in range(1, nr_sym+1):\n",
        "  pass_sym.append(random.choice(symbols))\n",
        "\n",
        "pass_sym"
      ],
      "metadata": {
        "colab": {
          "base_uri": "https://localhost:8080/"
        },
        "id": "t-kLk7BEUssG",
        "outputId": "2edff653-713a-4d88-d8e8-52954d5d7ff4"
      },
      "execution_count": null,
      "outputs": [
        {
          "output_type": "execute_result",
          "data": {
            "text/plain": [
              "['*', '#']"
            ]
          },
          "metadata": {},
          "execution_count": 85
        }
      ]
    },
    {
      "cell_type": "code",
      "source": [
        "count = 0\n",
        "pass_num = []\n",
        "for k in range(1, nr_num+1):\n",
        "  pass_num.append(random.choice(numbers))\n",
        "\n",
        "pass_num"
      ],
      "metadata": {
        "colab": {
          "base_uri": "https://localhost:8080/"
        },
        "id": "Xh38uDS2Uspc",
        "outputId": "849ed3dd-3486-498e-a9bd-a71a7ed269de"
      },
      "execution_count": null,
      "outputs": [
        {
          "output_type": "execute_result",
          "data": {
            "text/plain": [
              "['1', '4', '5']"
            ]
          },
          "metadata": {},
          "execution_count": 86
        }
      ]
    },
    {
      "cell_type": "code",
      "source": [
        "passwordo = pass_letters + pass_sym + pass_num"
      ],
      "metadata": {
        "id": "FBhfPpyGUsnL"
      },
      "execution_count": null,
      "outputs": []
    },
    {
      "cell_type": "code",
      "source": [
        "passwordo"
      ],
      "metadata": {
        "colab": {
          "base_uri": "https://localhost:8080/"
        },
        "id": "NGAmkP7_Uskc",
        "outputId": "ea50352a-4f82-4671-f1c7-c8310aba2636"
      },
      "execution_count": null,
      "outputs": [
        {
          "output_type": "execute_result",
          "data": {
            "text/plain": [
              "['O', 'o', '*', '5', 'F', '4', 'C', 'b', 'e', '#', 'B', '1', 'j']"
            ]
          },
          "metadata": {},
          "execution_count": 91
        }
      ]
    },
    {
      "cell_type": "code",
      "source": [
        "random.shuffle(passwordo)"
      ],
      "metadata": {
        "id": "6WZyOFnaUsh7"
      },
      "execution_count": null,
      "outputs": []
    },
    {
      "cell_type": "code",
      "source": [
        "pass_final = ''.join(passwordo)"
      ],
      "metadata": {
        "id": "fN46tK9kUsdZ"
      },
      "execution_count": null,
      "outputs": []
    },
    {
      "cell_type": "code",
      "source": [
        "pass_final"
      ],
      "metadata": {
        "colab": {
          "base_uri": "https://localhost:8080/",
          "height": 35
        },
        "id": "dmzwqsu8WNhe",
        "outputId": "c4d99e91-39d7-4a70-a9cd-3b061201e01c"
      },
      "execution_count": null,
      "outputs": [
        {
          "output_type": "execute_result",
          "data": {
            "text/plain": [
              "'Oo*5F4Cbe#B1j'"
            ],
            "application/vnd.google.colaboratory.intrinsic+json": {
              "type": "string"
            }
          },
          "metadata": {},
          "execution_count": 99
        }
      ]
    },
    {
      "cell_type": "code",
      "source": [
        "letters.random()"
      ],
      "metadata": {
        "colab": {
          "base_uri": "https://localhost:8080/",
          "height": 176
        },
        "id": "I7wurA-IRoYt",
        "outputId": "ca93758c-5323-411d-d88a-e82a8c6136fa"
      },
      "execution_count": null,
      "outputs": [
        {
          "output_type": "error",
          "ename": "AttributeError",
          "evalue": "ignored",
          "traceback": [
            "\u001b[0;31m---------------------------------------------------------------------------\u001b[0m",
            "\u001b[0;31mAttributeError\u001b[0m                            Traceback (most recent call last)",
            "\u001b[0;32m<ipython-input-60-f28f6ad3b948>\u001b[0m in \u001b[0;36m<cell line: 1>\u001b[0;34m()\u001b[0m\n\u001b[0;32m----> 1\u001b[0;31m \u001b[0mletters\u001b[0m\u001b[0;34m.\u001b[0m\u001b[0mrandom\u001b[0m\u001b[0;34m(\u001b[0m\u001b[0;34m)\u001b[0m\u001b[0;34m\u001b[0m\u001b[0;34m\u001b[0m\u001b[0m\n\u001b[0m",
            "\u001b[0;31mAttributeError\u001b[0m: 'list' object has no attribute 'random'"
          ]
        }
      ]
    },
    {
      "cell_type": "code",
      "source": [
        "a = random.choice(letters)"
      ],
      "metadata": {
        "id": "bibJAsN-Shp1"
      },
      "execution_count": null,
      "outputs": []
    },
    {
      "cell_type": "code",
      "source": [
        "a"
      ],
      "metadata": {
        "colab": {
          "base_uri": "https://localhost:8080/",
          "height": 35
        },
        "id": "7qeuiqC-SkLd",
        "outputId": "bf9181f2-a958-49b0-9669-e929c9a45d33"
      },
      "execution_count": null,
      "outputs": [
        {
          "output_type": "execute_result",
          "data": {
            "text/plain": [
              "'I'"
            ],
            "application/vnd.google.colaboratory.intrinsic+json": {
              "type": "string"
            }
          },
          "metadata": {},
          "execution_count": 65
        }
      ]
    },
    {
      "cell_type": "code",
      "source": [
        "def pick_A():\n",
        "  return \"A\"\n",
        "\n",
        "def pick_B():\n",
        "  return \"B\"\n",
        "\n",
        "def pick_C():\n",
        "  return \"C\""
      ],
      "metadata": {
        "id": "qeWdj3PNS10z"
      },
      "execution_count": null,
      "outputs": []
    },
    {
      "cell_type": "code",
      "source": [
        "fx_list = [pick_A, pick_B, pick_C]"
      ],
      "metadata": {
        "id": "qKBFEMvST7FQ"
      },
      "execution_count": null,
      "outputs": []
    },
    {
      "cell_type": "code",
      "source": [
        "pk = random.choice(fx_list)\n",
        "print(pk())"
      ],
      "metadata": {
        "colab": {
          "base_uri": "https://localhost:8080/"
        },
        "id": "xpUMvXy0UDFI",
        "outputId": "6450b89c-b76c-4f78-96c1-f98ebbb4c3e4"
      },
      "execution_count": null,
      "outputs": [
        {
          "output_type": "stream",
          "name": "stdout",
          "text": [
            "B\n"
          ]
        }
      ]
    },
    {
      "cell_type": "code",
      "source": [
        "# Final code of day 5"
      ],
      "metadata": {
        "id": "SaHTfwYPUG87"
      },
      "execution_count": null,
      "outputs": []
    },
    {
      "cell_type": "code",
      "source": [
        "import random\n",
        "\n",
        "s = \"a b c d e f g h i j k l m n o p q r s t u v w x y z A B C D E F G H I J K L M N O P Q R S T U V W X Y Z\"\n",
        "l = \"! # $ % & * ( ) +\"\n",
        "\n",
        "letters = [x for x in s.split()]\n",
        "numbers = [str(x) for x in range(0,10)]\n",
        "symbols = [x for x in l.split()]\n",
        "\n",
        "nr_len = int(input(\"How many letters would you like your password have?(minimum of 8 letters)\\n\"))\n",
        "nr_sym = int(input(\"How many symbols would you like?(minimum of 1 symbol)\\n\"))\n",
        "nr_num = int(input(\"How many numbers would you like?(minimum of 1 number)\\n\"))\n",
        "\n",
        "pass_letters = []\n",
        "for i in range(1, nr_len+1):\n",
        "  pass_letters.append(random.choice(letters))\n",
        "# pass_letters\n",
        "\n",
        "pass_sym = []\n",
        "for j in range(1, nr_sym+1):\n",
        "  pass_sym.append(random.choice(symbols))\n",
        "#pass_sym\n",
        "\n",
        "pass_num = []\n",
        "for k in range(1, nr_num+1):\n",
        "  pass_num.append(random.choice(numbers))\n",
        "#pass_num\n",
        "\n",
        "passwordo = pass_letters + pass_sym + pass_num\n",
        "random.shuffle(passwordo)\n",
        "pass_final = ''.join(passwordo)\n",
        "\n",
        "print(f\"Your generated password is '{pass_final}'.\")"
      ],
      "metadata": {
        "id": "NRJJwAyUWYuV",
        "colab": {
          "base_uri": "https://localhost:8080/"
        },
        "outputId": "8687ff70-00b7-4b95-da73-01e98e844d19"
      },
      "execution_count": 101,
      "outputs": [
        {
          "output_type": "stream",
          "name": "stdout",
          "text": [
            "How many letters would you like your password have?(minimum of 8 letters)\n",
            "12\n",
            "How many symbols would you like?(minimum of 1 symbol)\n",
            "4\n",
            "How many numbers would you like?(minimum of 1 number)\n",
            "3\n",
            "Your generated password is '!wZeU8NN*WPU&2OyM!4'.\n"
          ]
        }
      ]
    },
    {
      "cell_type": "code",
      "source": [],
      "metadata": {
        "id": "JjpYFe7TXuVe"
      },
      "execution_count": null,
      "outputs": []
    }
  ]
}