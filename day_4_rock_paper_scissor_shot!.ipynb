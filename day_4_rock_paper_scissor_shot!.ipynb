{
  "nbformat": 4,
  "nbformat_minor": 0,
  "metadata": {
    "colab": {
      "provenance": [],
      "authorship_tag": "ABX9TyPYIKBaVfF7DiRlBin8JoZU",
      "include_colab_link": true
    },
    "kernelspec": {
      "name": "python3",
      "display_name": "Python 3"
    },
    "language_info": {
      "name": "python"
    }
  },
  "cells": [
    {
      "cell_type": "markdown",
      "metadata": {
        "id": "view-in-github",
        "colab_type": "text"
      },
      "source": [
        "<a href=\"https://colab.research.google.com/github/micheal-el07/100_day_python_udemy/blob/main/day_4_rock_paper_scissor_shot!.ipynb\" target=\"_parent\"><img src=\"https://colab.research.google.com/assets/colab-badge.svg\" alt=\"Open In Colab\"/></a>"
      ]
    },
    {
      "cell_type": "code",
      "execution_count": null,
      "metadata": {
        "colab": {
          "base_uri": "https://localhost:8080/"
        },
        "id": "rW0SXeCP4oQf",
        "outputId": "ba0d16c5-4ee6-4e29-e1d4-8281b67716d0"
      },
      "outputs": [
        {
          "output_type": "stream",
          "name": "stdout",
          "text": [
            "Choose rock, paper or scissor? \n",
            "rock\n",
            "Player is rock.\n",
            "Bot is paper.\n",
            "Bot wins!\n"
          ]
        }
      ],
      "source": [
        "import random\n",
        "\n",
        "options = ['rock','paper','scissor']\n",
        "\n",
        "player = input(\"Choose rock, paper or scissor? \\n\")\n",
        "bot = options[random.randint(0,2)]\n",
        "print(f'Player is {player}.')\n",
        "print(f'Bot is {bot}.')\n",
        "\n",
        "if player == 'rock' and bot == 'scissor':\n",
        "  print('Player wins!')\n",
        "elif bot == 'rock' and player == 'scissor':\n",
        "  print('Bot wins!')\n",
        "elif player == 'paper' and bot == 'scissor':\n",
        "  print('Bot wins!')\n",
        "elif bot == 'paper' and player == 'scissor':\n",
        "  print('Player wins!')\n",
        "elif player == 'paper' and bot == 'rock':\n",
        "  print('Player wins!')\n",
        "elif bot == 'paper' and player == 'rock':\n",
        "  print('Bot wins!')\n",
        "elif (player == 'rock' and bot == 'rock') or (player == 'scissor' and bot == 'scissor') or (bot == 'paper' and player == 'paper'):\n",
        "  print('Its a draw')"
      ]
    },
    {
      "cell_type": "code",
      "source": [],
      "metadata": {
        "id": "yYqD2EAe2QcA"
      },
      "execution_count": 1,
      "outputs": []
    },
    {
      "cell_type": "code",
      "source": [],
      "metadata": {
        "id": "WyJTpEvH2b0p"
      },
      "execution_count": null,
      "outputs": []
    }
  ]
}