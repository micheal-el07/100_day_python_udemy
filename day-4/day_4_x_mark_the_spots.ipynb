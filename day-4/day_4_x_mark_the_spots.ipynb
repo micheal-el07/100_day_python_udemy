{
  "nbformat": 4,
  "nbformat_minor": 0,
  "metadata": {
    "colab": {
      "provenance": [],
      "authorship_tag": "ABX9TyPrn0Y56P/0yBlazxbCyDGw",
      "include_colab_link": true
    },
    "kernelspec": {
      "name": "python3",
      "display_name": "Python 3"
    },
    "language_info": {
      "name": "python"
    }
  },
  "cells": [
    {
      "cell_type": "markdown",
      "metadata": {
        "id": "view-in-github",
        "colab_type": "text"
      },
      "source": [
        "<a href=\"https://colab.research.google.com/github/micheal-el07/100_day_python_udemy/blob/main/day_4_x_mark_the_spots.ipynb\" target=\"_parent\"><img src=\"https://colab.research.google.com/assets/colab-badge.svg\" alt=\"Open In Colab\"/></a>"
      ]
    },
    {
      "cell_type": "code",
      "execution_count": 24,
      "metadata": {
        "colab": {
          "base_uri": "https://localhost:8080/"
        },
        "id": "0gILaeIKZhGf",
        "outputId": "bd5256b8-548e-46cc-8fc6-78e9618d6c8c"
      },
      "outputs": [
        {
          "output_type": "stream",
          "name": "stdout",
          "text": [
            "[' ', ' ', ' ']\n",
            "[' ', ' ', ' ']\n",
            "[' ', ' ', ' ']\n",
            "Hiding your treasure! X marks the spot.\n",
            "A3\n",
            "[' ', ' ', ' ']\n",
            "[' ', ' ', ' ']\n",
            "['X', ' ', ' ']\n"
          ]
        }
      ],
      "source": [
        "line1 = [\" \", \" \", \" \"]\n",
        "line2 = [\" \", \" \", \" \"]\n",
        "line3 = [\" \", \" \", \" \"]\n",
        "map = [line1, line2, line3]\n",
        "\n",
        "for i in map:\n",
        "  print(i)\n",
        "\n",
        "# Input options are A, B, C for the horizontal and 1, 2, 3 for vetical eg. B1, C3\n",
        "print(\"Hiding your treasure! X marks the spot.\")\n",
        "position = input()\n",
        "\n",
        "horizontal = [\"A\", \"B\", \"C\"]\n",
        "\n",
        "for i, j in enumerate(horizontal):\n",
        "  if position[0] == j:\n",
        "    hor = i\n",
        "\n",
        "map[int(position[1])-1][hor] = \"X\"\n",
        "\n",
        "for i in map:\n",
        "  print(i)"
      ]
    },
    {
      "cell_type": "code",
      "source": [],
      "metadata": {
        "id": "2pTArfrgZtcC"
      },
      "execution_count": 22,
      "outputs": []
    },
    {
      "cell_type": "code",
      "source": [],
      "metadata": {
        "id": "dPWMiPokZ3aA"
      },
      "execution_count": 22,
      "outputs": []
    },
    {
      "cell_type": "code",
      "source": [],
      "metadata": {
        "id": "CDWX3u7SaHIl"
      },
      "execution_count": 23,
      "outputs": []
    },
    {
      "cell_type": "code",
      "source": [],
      "metadata": {
        "id": "it0PWKxiaXop"
      },
      "execution_count": 23,
      "outputs": []
    },
    {
      "cell_type": "code",
      "source": [],
      "metadata": {
        "id": "vR9kXuD3anaV"
      },
      "execution_count": 23,
      "outputs": []
    },
    {
      "cell_type": "code",
      "source": [],
      "metadata": {
        "id": "VBF2e44eanXc"
      },
      "execution_count": 23,
      "outputs": []
    },
    {
      "cell_type": "code",
      "source": [],
      "metadata": {
        "id": "ifi0Os5WanVD"
      },
      "execution_count": 23,
      "outputs": []
    },
    {
      "cell_type": "code",
      "source": [],
      "metadata": {
        "id": "zWiufb2EanSf"
      },
      "execution_count": null,
      "outputs": []
    },
    {
      "cell_type": "code",
      "source": [],
      "metadata": {
        "id": "j90yS-ABanOa"
      },
      "execution_count": null,
      "outputs": []
    },
    {
      "cell_type": "code",
      "source": [],
      "metadata": {
        "id": "wj8p2Z-sanL3"
      },
      "execution_count": null,
      "outputs": []
    },
    {
      "cell_type": "code",
      "source": [],
      "metadata": {
        "id": "oDD6QfPYanGH"
      },
      "execution_count": null,
      "outputs": []
    }
  ]
}
