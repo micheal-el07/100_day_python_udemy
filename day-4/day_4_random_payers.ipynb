{
  "nbformat": 4,
  "nbformat_minor": 0,
  "metadata": {
    "colab": {
      "provenance": [],
      "authorship_tag": "ABX9TyM3pj7TMoumBb/WgBVTghvE",
      "include_colab_link": true
    },
    "kernelspec": {
      "name": "python3",
      "display_name": "Python 3"
    },
    "language_info": {
      "name": "python"
    }
  },
  "cells": [
    {
      "cell_type": "markdown",
      "metadata": {
        "id": "view-in-github",
        "colab_type": "text"
      },
      "source": [
        "<a href=\"https://colab.research.google.com/github/micheal-el07/100_day_python_udemy/blob/main/day_4_random_payers.ipynb\" target=\"_parent\"><img src=\"https://colab.research.google.com/assets/colab-badge.svg\" alt=\"Open In Colab\"/></a>"
      ]
    },
    {
      "cell_type": "code",
      "source": [
        "import random"
      ],
      "metadata": {
        "id": "x5tTUSK8XqVZ"
      },
      "execution_count": 14,
      "outputs": []
    },
    {
      "cell_type": "code",
      "source": [
        "payers = [\"Mike\", \"Angela\", \"Kiah\", \"Raju\", \"Ah Chong\", \"Sakura\", \"Toji\", \"Yuta\"]"
      ],
      "metadata": {
        "id": "NhE15FGYWXFP"
      },
      "execution_count": 20,
      "outputs": []
    },
    {
      "cell_type": "code",
      "source": [
        "payers"
      ],
      "metadata": {
        "colab": {
          "base_uri": "https://localhost:8080/"
        },
        "id": "-qOFeXcyYTUd",
        "outputId": "056e457f-3972-4d66-9832-a309572cd67d"
      },
      "execution_count": 23,
      "outputs": [
        {
          "output_type": "execute_result",
          "data": {
            "text/plain": [
              "('Mike', 'Angela', 'Kiah', 'Raju', 'Ah Chong', 'Sakura', 'Toji', 'Yuta')"
            ]
          },
          "metadata": {},
          "execution_count": 23
        }
      ]
    },
    {
      "cell_type": "code",
      "execution_count": 11,
      "metadata": {
        "colab": {
          "base_uri": "https://localhost:8080/"
        },
        "id": "S65F8NM0WRyS",
        "outputId": "8b40bf1c-b222-469e-eba5-0ab90a251685"
      },
      "outputs": [
        {
          "name": "stdout",
          "output_type": "stream",
          "text": [
            "Enter name list \n",
            "Mike, Angela, Kiah, Raju, Ah Chong, Sakura, Toji, Yuta\n"
          ]
        }
      ],
      "source": [
        "names = list(input(\"Enter name list \\n\").split(\", \"))"
      ]
    },
    {
      "cell_type": "code",
      "source": [],
      "metadata": {
        "id": "GxkxwJn4Yb7H"
      },
      "execution_count": null,
      "outputs": []
    },
    {
      "cell_type": "code",
      "source": [
        "names"
      ],
      "metadata": {
        "colab": {
          "base_uri": "https://localhost:8080/"
        },
        "id": "a2lQOl76WhhJ",
        "outputId": "351154bf-1517-487e-9c23-3299dc6d28bc"
      },
      "execution_count": 12,
      "outputs": [
        {
          "output_type": "execute_result",
          "data": {
            "text/plain": [
              "['Mike', 'Angela', 'Kiah', 'Raju', 'Ah Chong', 'Sakura', 'Toji', 'Yuta']"
            ]
          },
          "metadata": {},
          "execution_count": 12
        }
      ]
    },
    {
      "cell_type": "code",
      "source": [
        "pay = random.choice(payers)"
      ],
      "metadata": {
        "id": "e3vhDMhZWhew"
      },
      "execution_count": 28,
      "outputs": []
    },
    {
      "cell_type": "code",
      "source": [
        "print(pay)"
      ],
      "metadata": {
        "colab": {
          "base_uri": "https://localhost:8080/"
        },
        "id": "vrN_Dz4SWhb5",
        "outputId": "0b055aac-0772-4ca0-c1b9-70071825580e"
      },
      "execution_count": 30,
      "outputs": [
        {
          "output_type": "stream",
          "name": "stdout",
          "text": [
            "Sakura\n"
          ]
        }
      ]
    },
    {
      "cell_type": "code",
      "source": [],
      "metadata": {
        "id": "qyz5gsE0WhZW"
      },
      "execution_count": 18,
      "outputs": []
    },
    {
      "cell_type": "code",
      "source": [],
      "metadata": {
        "id": "7zCf_ewMWhW5"
      },
      "execution_count": null,
      "outputs": []
    },
    {
      "cell_type": "code",
      "source": [],
      "metadata": {
        "id": "0uRRAXWWWhUL"
      },
      "execution_count": null,
      "outputs": []
    },
    {
      "cell_type": "code",
      "source": [],
      "metadata": {
        "id": "54GXCbvTWhRW"
      },
      "execution_count": null,
      "outputs": []
    }
  ]
}
