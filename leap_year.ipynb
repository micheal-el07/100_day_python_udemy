{
  "nbformat": 4,
  "nbformat_minor": 0,
  "metadata": {
    "colab": {
      "provenance": [],
      "authorship_tag": "ABX9TyPeTl+fYhIbaTVyaZyZpXam",
      "include_colab_link": true
    },
    "kernelspec": {
      "name": "python3",
      "display_name": "Python 3"
    },
    "language_info": {
      "name": "python"
    }
  },
  "cells": [
    {
      "cell_type": "markdown",
      "metadata": {
        "id": "view-in-github",
        "colab_type": "text"
      },
      "source": [
        "<a href=\"https://colab.research.google.com/github/micheal-el07/100_day_python_udemy/blob/main/leap_year.ipynb\" target=\"_parent\"><img src=\"https://colab.research.google.com/assets/colab-badge.svg\" alt=\"Open In Colab\"/></a>"
      ]
    },
    {
      "cell_type": "code",
      "execution_count": 9,
      "metadata": {
        "colab": {
          "base_uri": "https://localhost:8080/"
        },
        "id": "tQdgMvURJl2N",
        "outputId": "5b9ce1fb-68a7-4cfa-9de4-1c0bfeeb79ad"
      },
      "outputs": [
        {
          "output_type": "stream",
          "name": "stdout",
          "text": [
            "Enter the year: 2000\n",
            "The year 2000 is a leap year.\n"
          ]
        }
      ],
      "source": [
        "year = int(input(\"Enter the year: \"))\n",
        "\n",
        "if year % 4 == 0:\n",
        "  if year % 100 != 0:\n",
        "    leap = True\n",
        "  else:\n",
        "      if year % 400 == 0:\n",
        "        leap = True\n",
        "      else:\n",
        "        leap = False\n",
        "else:\n",
        "  leap = False\n",
        "\n",
        "if leap:\n",
        "  print(f'The year {year} is a leap year.')\n",
        "else:\n",
        "    print(f'The year {year} is not a leap year.')"
      ]
    },
    {
      "cell_type": "code",
      "source": [],
      "metadata": {
        "id": "pbyDJvGpKRR5"
      },
      "execution_count": null,
      "outputs": []
    }
  ]
}