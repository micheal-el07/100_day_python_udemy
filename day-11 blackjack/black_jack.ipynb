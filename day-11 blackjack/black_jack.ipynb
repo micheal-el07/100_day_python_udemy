{
 "cells": [
  {
   "cell_type": "code",
   "execution_count": 17,
   "id": "75a0a937-5be6-4bfb-b21d-8f69658fb606",
   "metadata": {},
   "outputs": [],
   "source": [
    "import math\n",
    "import random"
   ]
  },
  {
   "cell_type": "code",
   "execution_count": 19,
   "id": "9e3733fb-88ff-4a7c-964e-7157e3e842a9",
   "metadata": {},
   "outputs": [],
   "source": [
    "all_cards = [\n",
    "    [\"Ace\" , 1],\n",
    "    [\"2\" , 2],\n",
    "    [\"3\" , 3],\n",
    "    [\"4\" , 4],\n",
    "    [\"5\" , 5],\n",
    "    [\"6\" , 6],\n",
    "    [\"7\" , 7],\n",
    "    [\"8\" , 8],\n",
    "    [\"9\" , 9],\n",
    "    [\"10\" , 10],\n",
    "    [\"Jack\" , 10],\n",
    "    [\"Queen\" , 10],\n",
    "    [\"King\" , 10],\n",
    "]"
   ]
  },
  {
   "cell_type": "code",
   "execution_count": null,
   "id": "510b86cc-d8c8-4f6d-bcd6-e25b5cddd373",
   "metadata": {},
   "outputs": [],
   "source": []
  },
  {
   "cell_type": "code",
   "execution_count": 344,
   "id": "03b2d972-241b-4c97-84ae-b3b7c5e14930",
   "metadata": {},
   "outputs": [],
   "source": [
    "class Player:\n",
    "  def __init__(self, name, cards=all_cards):\n",
    "    self.name = name\n",
    "    self.all_cards = cards\n",
    "    self.cards_total_value = 0\n",
    "    self.player_cards = []\n",
    "    self.is_bust = False\n",
    "\n",
    "  def check_bust(self):\n",
    "    if self.cards_total_value > 21:\n",
    "      self.is_bust = True\n",
    "\n",
    "  def draw_one_card(self):\n",
    "    card = random.randint(0, 12)\n",
    "    self.player_cards.append(self.all_cards[card])\n",
    "    self.total_card_value()\n",
    "    self.check_bust()\n",
    "\n",
    "  def total_card_value(self):\n",
    "    self.cards_total_value = 0\n",
    "    for i in self.player_cards:\n",
    "        self.cards_total_value += i[1]\n",
    "\n",
    "  def draw_beginning(self):\n",
    "    self.draw_one_card()\n",
    "    self.draw_one_card()\n",
    "\n",
    "  def cards_info(self):\n",
    "    for card in self.player_cards:\n",
    "      print(f'{card[0]} with value of {card[1]}.')\n",
    "\n",
    "    print(f'Total {self.name} cards of {self.cards_total_value}.')\n",
    "    print(f'Is player is busted: {self.is_bust}')\n",
    "\n",
    "\n",
    "player_one = Player(\"One\")\n",
    "player_one.draw_beginning()\n",
    "\n",
    "\n",
    "dealer = Player(\"Dealer\")\n",
    "dealer.draw_beginning()\n",
    "# dealer.total_card_value()"
   ]
  },
  {
   "cell_type": "code",
   "execution_count": 334,
   "id": "dc96bfc9-e229-4141-93ba-daff8241ddb9",
   "metadata": {},
   "outputs": [
    {
     "name": "stdout",
     "output_type": "stream",
     "text": [
      "King with value of 10.\n",
      "3 with value of 3.\n",
      "Total Dealer cards of 13.\n",
      "Is player is busted: False\n",
      "None\n",
      " \n",
      "5 with value of 5.\n",
      "King with value of 10.\n",
      "Total One cards of 15.\n",
      "Is player is busted: False\n",
      "None\n"
     ]
    }
   ],
   "source": [
    "print(dealer.cards_info())\n",
    "# print(dealer.player_cards)\n",
    "print(\" \")\n",
    "print(player_one.cards_info())\n",
    "# print(player_one.player_cards)"
   ]
  },
  {
   "cell_type": "code",
   "execution_count": 336,
   "id": "11dd617d-cf9e-4c73-884c-a04872179648",
   "metadata": {},
   "outputs": [
    {
     "name": "stdout",
     "output_type": "stream",
     "text": [
      "15\n"
     ]
    }
   ],
   "source": [
    "print(player_one.cards_total_value)"
   ]
  },
  {
   "cell_type": "code",
   "execution_count": 324,
   "id": "e06394d2-e766-4e96-8a38-2cb4808132f1",
   "metadata": {},
   "outputs": [
    {
     "data": {
      "text/plain": [
       "[['Queen', 10], ['Ace', 1]]"
      ]
     },
     "execution_count": 324,
     "metadata": {},
     "output_type": "execute_result"
    }
   ],
   "source": [
    "player_one.player_cards"
   ]
  },
  {
   "cell_type": "code",
   "execution_count": 296,
   "id": "18f0ce31-0eef-4b30-ac63-e39a2ebea922",
   "metadata": {},
   "outputs": [],
   "source": [
    "def any_player_busted(player_1, player_2):\n",
    "    if player_1.is_bust == True or player_2.is_bust == True:\n",
    "        anyone_busted = True"
   ]
  },
  {
   "cell_type": "code",
   "execution_count": 346,
   "id": "e3dfa4ca-5b6f-4e8a-bf21-44f1a4556f3a",
   "metadata": {},
   "outputs": [
    {
     "name": "stdout",
     "output_type": "stream",
     "text": [
      "['Queen', 10]\n",
      " \n",
      "Queen with value of 10.\n",
      "8 with value of 8.\n",
      "Total One cards of 18.\n",
      "Is player is busted: False\n",
      "None\n"
     ]
    },
    {
     "name": "stdin",
     "output_type": "stream",
     "text": [
      "Do you want to open, draw or hold? open\n"
     ]
    },
    {
     "name": "stdout",
     "output_type": "stream",
     "text": [
      "Queen with value of 10.\n",
      "6 with value of 6.\n",
      "Total Dealer cards of 16.\n",
      "Is player is busted: False\n",
      "None\n",
      "Queen with value of 10.\n",
      "8 with value of 8.\n",
      "Total One cards of 18.\n",
      "Is player is busted: False\n",
      "None\n",
      "Player one wins\n"
     ]
    }
   ],
   "source": [
    "anyone_busted = False\n",
    "anyone_win = False\n",
    "while not anyone_busted and not anyone_win:\n",
    "    print(dealer.player_cards[0])\n",
    "    # print(dealer.player_cards)\n",
    "    print(\" \")\n",
    "    print(player_one.cards_info())\n",
    "\n",
    "    if player_one.cards_total_value < 21:\n",
    "        continue_play = input(\"Do you want to open, draw or hold?\")\n",
    "\n",
    "    if continue_play.lower() == 'open':\n",
    "        print(dealer.cards_info())\n",
    "        print(player_one.cards_info())\n",
    "        if player_one.cards_total_value > dealer.cards_total_value:\n",
    "            print(\"Player one wins\")\n",
    "        else:\n",
    "            print(\"Dealer wins\")\n",
    "        anyone_win = True\n",
    "    elif continue_play.lower() == 'draw':\n",
    "        player_one.draw_one_card()\n",
    "\n",
    "    any_player_busted(player_one, dealer)"
   ]
  },
  {
   "cell_type": "code",
   "execution_count": null,
   "id": "93e1b0b2-1793-44e3-9df7-2f6d1ae93e1e",
   "metadata": {},
   "outputs": [],
   "source": []
  },
  {
   "cell_type": "code",
   "execution_count": 286,
   "id": "21de4c8a-0f06-4ea6-9071-cc686fd4dd7e",
   "metadata": {},
   "outputs": [
    {
     "data": {
      "text/plain": [
       "'open'"
      ]
     },
     "execution_count": 286,
     "metadata": {},
     "output_type": "execute_result"
    }
   ],
   "source": [
    "\"Open\".lower()"
   ]
  },
  {
   "cell_type": "code",
   "execution_count": null,
   "id": "7d3734a4-c52e-4a75-a866-dd6c06177001",
   "metadata": {},
   "outputs": [],
   "source": []
  },
  {
   "cell_type": "code",
   "execution_count": 368,
   "id": "64a7ce51-ac19-41a4-a53a-5158d05f1b5d",
   "metadata": {},
   "outputs": [
    {
     "name": "stdout",
     "output_type": "stream",
     "text": [
      "['10', 10]\n",
      " \n",
      "2 with value of 2.\n",
      "3 with value of 3.\n",
      "Total One cards of 5.\n",
      "Is player is busted: False\n",
      "None\n"
     ]
    },
    {
     "name": "stdin",
     "output_type": "stream",
     "text": [
      "Do you want to open, draw or hold? draw\n"
     ]
    },
    {
     "name": "stdout",
     "output_type": "stream",
     "text": [
      "['10', 10]\n",
      " \n",
      "2 with value of 2.\n",
      "3 with value of 3.\n",
      "7 with value of 7.\n",
      "Total One cards of 12.\n",
      "Is player is busted: False\n",
      "None\n"
     ]
    },
    {
     "name": "stdin",
     "output_type": "stream",
     "text": [
      "Do you want to open, draw or hold? draw\n"
     ]
    },
    {
     "name": "stdout",
     "output_type": "stream",
     "text": [
      "['10', 10]\n",
      " \n",
      "2 with value of 2.\n",
      "3 with value of 3.\n",
      "7 with value of 7.\n",
      "Ace with value of 1.\n",
      "Total One cards of 13.\n",
      "Is player is busted: False\n",
      "None\n"
     ]
    },
    {
     "name": "stdin",
     "output_type": "stream",
     "text": [
      "Do you want to open, draw or hold? draw\n"
     ]
    },
    {
     "name": "stdout",
     "output_type": "stream",
     "text": [
      "['10', 10]\n",
      " \n",
      "2 with value of 2.\n",
      "3 with value of 3.\n",
      "7 with value of 7.\n",
      "Ace with value of 1.\n",
      "6 with value of 6.\n",
      "Total One cards of 19.\n",
      "Is player is busted: False\n",
      "None\n"
     ]
    },
    {
     "name": "stdin",
     "output_type": "stream",
     "text": [
      "Do you want to open, draw or hold? draw\n"
     ]
    },
    {
     "name": "stdout",
     "output_type": "stream",
     "text": [
      "One busted, Dealer win!\n"
     ]
    }
   ],
   "source": [
    "import random\n",
    "\n",
    "all_cards = [\n",
    "    [\"Ace\" , 1],\n",
    "    [\"2\" , 2],\n",
    "    [\"3\" , 3],\n",
    "    [\"4\" , 4],\n",
    "    [\"5\" , 5],\n",
    "    [\"6\" , 6],\n",
    "    [\"7\" , 7],\n",
    "    [\"8\" , 8],\n",
    "    [\"9\" , 9],\n",
    "    [\"10\" , 10],\n",
    "    [\"Jack\" , 10],\n",
    "    [\"Queen\" , 10],\n",
    "    [\"King\" , 10],\n",
    "]\n",
    "\n",
    "class Player:\n",
    "  def __init__(self, name, cards=all_cards):\n",
    "    self.name = name\n",
    "    self.all_cards = cards\n",
    "    self.cards_total_value = 0\n",
    "    self.player_cards = []\n",
    "    self.is_bust = False\n",
    "\n",
    "  def check_bust(self):\n",
    "    if self.cards_total_value > 21:\n",
    "      self.is_bust = True\n",
    "\n",
    "  def draw_one_card(self):\n",
    "    card = random.randint(0, 12)\n",
    "    self.player_cards.append(self.all_cards[card])\n",
    "    self.total_card_value()\n",
    "    self.check_bust()\n",
    "\n",
    "  def total_card_value(self):\n",
    "    self.cards_total_value = 0\n",
    "    for i in self.player_cards:\n",
    "        self.cards_total_value += i[1]\n",
    "\n",
    "  def draw_beginning(self):\n",
    "    self.draw_one_card()\n",
    "    self.draw_one_card()\n",
    "\n",
    "  def cards_info(self):\n",
    "    for card in self.player_cards:\n",
    "      print(f'{card[0]} with value of {card[1]}.')\n",
    "\n",
    "    print(f'Total {self.name} cards of {self.cards_total_value}.')\n",
    "    print(f'Is player is busted: {self.is_bust}')\n",
    "\n",
    "\n",
    "player_one = Player(\"One\")\n",
    "player_one.draw_beginning()\n",
    "\n",
    "\n",
    "dealer = Player(\"Dealer\")\n",
    "dealer.draw_beginning()\n",
    "\n",
    "def any_player_busted(player_1, player_2):\n",
    "    if player_1.is_bust == True or player_2.is_bust == True:\n",
    "        if player_1.is_bust == True:\n",
    "            print(f'{player_1.name} busted, {player_2.name} win!')\n",
    "        elif player_2.is_bust == True:\n",
    "            print(f'{player_2.name} busted, {player_1.name} win!')\n",
    "        return True\n",
    "    else:\n",
    "        return False\n",
    "\n",
    "anyone_busted = False\n",
    "anyone_win = False\n",
    "while not anyone_busted and not anyone_win:\n",
    "    print(dealer.player_cards[0])\n",
    "    # print(dealer.player_cards)\n",
    "    print(\" \")\n",
    "    print(player_one.cards_info())\n",
    "\n",
    "    if player_one.cards_total_value < 21:\n",
    "        continue_play = input(\"Do you want to open, draw or hold?\")\n",
    "\n",
    "    if continue_play.lower() == 'open':\n",
    "        print(dealer.cards_info())\n",
    "        print(player_one.cards_info())\n",
    "        if player_one.cards_total_value > dealer.cards_total_value:\n",
    "            print(\"Player one wins\")\n",
    "        elif player_one.cards_total_value < dealer.cards_total_value:\n",
    "            print(\"Dealer wins\")\n",
    "        elif player_one.cards_total_value == dealer.cards_total_value:\n",
    "            print(\"Draw\")\n",
    "        anyone_win = True\n",
    "    elif continue_play.lower() == 'draw':\n",
    "        player_one.draw_one_card()\n",
    "\n",
    "    anyone_busted = any_player_busted(player_one, dealer)\n"
   ]
  },
  {
   "cell_type": "code",
   "execution_count": 370,
   "id": "8ae6a5db-0264-411c-8cfc-a037e2d8912a",
   "metadata": {},
   "outputs": [
    {
     "data": {
      "text/plain": [
       "True"
      ]
     },
     "execution_count": 370,
     "metadata": {},
     "output_type": "execute_result"
    }
   ],
   "source": [
    "player_one.is_bust"
   ]
  },
  {
   "cell_type": "code",
   "execution_count": 376,
   "id": "0da946d2-7fc3-47fc-b114-d7c88a82b51c",
   "metadata": {},
   "outputs": [
    {
     "data": {
      "text/plain": [
       "[['2', 2], ['3', 3], ['7', 7], ['Ace', 1], ['6', 6], ['6', 6]]"
      ]
     },
     "execution_count": 376,
     "metadata": {},
     "output_type": "execute_result"
    }
   ],
   "source": [
    "player_one.player_cards"
   ]
  },
  {
   "cell_type": "code",
   "execution_count": 378,
   "id": "79db963d-e24f-4d26-a586-4e01df1e7e8d",
   "metadata": {},
   "outputs": [
    {
     "data": {
      "text/plain": [
       "25"
      ]
     },
     "execution_count": 378,
     "metadata": {},
     "output_type": "execute_result"
    }
   ],
   "source": [
    "player_one.cards_total_value"
   ]
  },
  {
   "cell_type": "code",
   "execution_count": null,
   "id": "85a4d8f7-d545-449d-a783-3010e05bf38d",
   "metadata": {},
   "outputs": [],
   "source": []
  },
  {
   "cell_type": "code",
   "execution_count": null,
   "id": "11616e05-c278-423d-8c30-5f7784471d07",
   "metadata": {},
   "outputs": [],
   "source": []
  },
  {
   "cell_type": "code",
   "execution_count": 121,
   "id": "d07b6693-ab1c-4243-be5f-9fc857d449e3",
   "metadata": {},
   "outputs": [
    {
     "name": "stdout",
     "output_type": "stream",
     "text": [
      "2 with value of 2.\n",
      "King with value of 10.\n",
      "Total cards value: 12.\n",
      "Is player busted: False\n",
      "King with value of 10.\n",
      "Ace with value of 11.\n",
      "Total cards value: 21.\n",
      "Is player busted: False\n"
     ]
    }
   ],
   "source": [
    "import random\n",
    "\n",
    "class Player:\n",
    "    def __init__(self, all_cards, cards_total_value=0, player_cards=None, is_bust=False):\n",
    "        self.all_cards = all_cards[:]\n",
    "        self.cards_total_value = cards_total_value\n",
    "        self.player_cards = player_cards if player_cards is not None else []\n",
    "        self.is_bust = is_bust\n",
    "\n",
    "    def check_bust(self):\n",
    "        if self.cards_total_value > 21:\n",
    "            self.is_bust = True\n",
    "\n",
    "    def draw_one_card(self):\n",
    "        if not self.all_cards:\n",
    "            print(\"No more cards to draw.\")\n",
    "            return\n",
    "        card = random.choice(self.all_cards)\n",
    "        self.all_cards.remove(card)\n",
    "        self.player_cards.append(card)\n",
    "        self.total_card_value()\n",
    "        self.check_bust()\n",
    "\n",
    "    def total_card_value(self):\n",
    "        self.cards_total_value = sum(card[1] for card in self.player_cards)\n",
    "\n",
    "    def draw_beginning(self):\n",
    "        self.draw_one_card()\n",
    "        self.draw_one_card()\n",
    "\n",
    "    def cards_info(self):\n",
    "        for card in self.player_cards:\n",
    "            print(f'{card[0]} with value of {card[1]}.')\n",
    "        print(f'Total cards value: {self.cards_total_value}.')\n",
    "        print(f'Is player busted: {self.is_bust}')\n",
    "\n",
    "# Define a sample deck of cards\n",
    "original_deck = [('Ace', 11), ('2', 2), ('3', 3), ('4', 4), ('5', 5), ('6', 6), ('7', 7), \n",
    "                  ('8', 8), ('9', 9), ('10', 10), ('Jack', 10), ('Queen', 10), ('King', 10)]\n",
    "\n",
    "player_one = Player(original_deck)\n",
    "dealer = Player(original_deck)\n",
    "\n",
    "player_one.draw_beginning()\n",
    "player_one.cards_info()\n",
    "\n",
    "dealer.draw_beginning()\n",
    "dealer.cards_info()"
   ]
  },
  {
   "cell_type": "code",
   "execution_count": null,
   "id": "13d8d5d1-3c25-4115-b2a6-946504d15c56",
   "metadata": {},
   "outputs": [],
   "source": []
  }
 ],
 "metadata": {
  "kernelspec": {
   "display_name": "Python 3 (ipykernel)",
   "language": "python",
   "name": "python3"
  },
  "language_info": {
   "codemirror_mode": {
    "name": "ipython",
    "version": 3
   },
   "file_extension": ".py",
   "mimetype": "text/x-python",
   "name": "python",
   "nbconvert_exporter": "python",
   "pygments_lexer": "ipython3",
   "version": "3.12.4"
  }
 },
 "nbformat": 4,
 "nbformat_minor": 5
}
