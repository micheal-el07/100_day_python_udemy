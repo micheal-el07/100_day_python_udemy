{
 "cells": [
  {
   "cell_type": "code",
   "execution_count": 1,
   "metadata": {},
   "outputs": [],
   "source": [
    "biddings = {}"
   ]
  },
  {
   "cell_type": "code",
   "execution_count": 2,
   "metadata": {},
   "outputs": [],
   "source": [
    "name = input(\"Enter your name: \")\n",
    "bid = int(input(\"Enter your bidding: \"))"
   ]
  },
  {
   "cell_type": "code",
   "execution_count": 3,
   "metadata": {},
   "outputs": [],
   "source": [
    "biddings[name] = bid"
   ]
  },
  {
   "cell_type": "code",
   "execution_count": 6,
   "metadata": {},
   "outputs": [
    {
     "data": {
      "text/plain": [
       "{'Mike': 5, 'Elf': 10}"
      ]
     },
     "execution_count": 6,
     "metadata": {},
     "output_type": "execute_result"
    }
   ],
   "source": [
    "biddings"
   ]
  },
  {
   "cell_type": "code",
   "execution_count": 8,
   "metadata": {},
   "outputs": [
    {
     "name": "stdout",
     "output_type": "stream",
     "text": [
      "{'Mike': 200, 'Sarah': 2000, 'Kai': 198}\n"
     ]
    }
   ],
   "source": [
    "bidding = True\n",
    "biddings = {}\n",
    "while bidding:\n",
    "    name = input(\"Enter your name: \")\n",
    "    bid = int(input(\"Enter your bidding: \"))\n",
    "    biddings[name] = bid\n",
    "\n",
    "    continue_bid = input(\"Does anyone else want to bid?(y/n)\")\n",
    "    if continue_bid == 'y':\n",
    "        continue\n",
    "    else:\n",
    "        bidding = False\n",
    "\n",
    "print(biddings)\n",
    "\n",
    "max = 0\n",
    "for key in biddings:\n",
    "    if biddings[key] > max:\n",
    "        winner = key\n",
    "        max = biddings[key]\n",
    "\n",
    "print(winner)"
   ]
  },
  {
   "cell_type": "code",
   "execution_count": null,
   "metadata": {},
   "outputs": [],
   "source": []
  },
  {
   "cell_type": "markdown",
   "metadata": {},
   "source": [
    "- Scores 91 - 100: Grade = \"Outstanding\" \n",
    "\n",
    "- Scores 81 - 90: Grade = \"Exceeds Expectations\" \n",
    "\n",
    "- Scores 71 - 80: Grade = \"Acceptable\" \n",
    "\n",
    "- Scores 70 or lower: Grade = \"Fail\" "
   ]
  },
  {
   "cell_type": "code",
   "execution_count": 14,
   "metadata": {},
   "outputs": [
    {
     "name": "stdout",
     "output_type": "stream",
     "text": [
      "{'Harry': 'Exceeds Expectations', 'Ron': 'Acceptable', 'Hermione': 'Outstanding', 'Draco': 'Acceptable', 'Neville': 'Fail'}\n"
     ]
    }
   ],
   "source": [
    "student_scores = {\n",
    "    'Harry': 88,\n",
    "    'Ron': 78,\n",
    "    'Hermione': 95,\n",
    "    'Draco': 75,\n",
    "    'Neville': 60\n",
    "}\n",
    "\n",
    "student_grades = {}\n",
    "\n",
    "for key in student_scores:\n",
    "    if student_scores[key] > 90 and student_scores[key] <= 100:\n",
    "        student_grades[key] = \"Outstanding\"\n",
    "    elif student_scores[key] > 80 and student_scores[key] <= 90:\n",
    "        student_grades[key] = \"Exceeds Expectations\"\n",
    "    elif student_scores[key] > 70 and student_scores[key] <= 80:\n",
    "        student_grades[key] = \"Acceptable\"\n",
    "    elif student_scores[key] <= 70:\n",
    "        student_grades[key] = \"Fail\"\n",
    "\n",
    "print(student_grades)"
   ]
  },
  {
   "cell_type": "code",
   "execution_count": null,
   "metadata": {},
   "outputs": [],
   "source": []
  }
 ],
 "metadata": {
  "kernelspec": {
   "display_name": "Python 3",
   "language": "python",
   "name": "python3"
  },
  "language_info": {
   "codemirror_mode": {
    "name": "ipython",
    "version": 3
   },
   "file_extension": ".py",
   "mimetype": "text/x-python",
   "name": "python",
   "nbconvert_exporter": "python",
   "pygments_lexer": "ipython3",
   "version": "3.11.7"
  }
 },
 "nbformat": 4,
 "nbformat_minor": 2
}
