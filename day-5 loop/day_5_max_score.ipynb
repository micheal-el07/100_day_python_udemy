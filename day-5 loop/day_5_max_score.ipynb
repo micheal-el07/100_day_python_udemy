{
  "nbformat": 4,
  "nbformat_minor": 0,
  "metadata": {
    "colab": {
      "provenance": [],
      "authorship_tag": "ABX9TyNAXKHiZCRG5lFyodIrJc7u",
      "include_colab_link": true
    },
    "kernelspec": {
      "name": "python3",
      "display_name": "Python 3"
    },
    "language_info": {
      "name": "python"
    }
  },
  "cells": [
    {
      "cell_type": "markdown",
      "metadata": {
        "id": "view-in-github",
        "colab_type": "text"
      },
      "source": [
        "<a href=\"https://colab.research.google.com/github/micheal-el07/100_day_python_udemy/blob/main/day_5_max_score.ipynb\" target=\"_parent\"><img src=\"https://colab.research.google.com/assets/colab-badge.svg\" alt=\"Open In Colab\"/></a>"
      ]
    },
    {
      "cell_type": "code",
      "source": [
        "# 45 32 67 55 98 53 32 78 65 54 88"
      ],
      "metadata": {
        "id": "HdYNqWAzLAQ1"
      },
      "execution_count": null,
      "outputs": []
    },
    {
      "cell_type": "code",
      "execution_count": 1,
      "metadata": {
        "colab": {
          "base_uri": "https://localhost:8080/"
        },
        "id": "SeaPLxa9KMqK",
        "outputId": "b750c8aa-fbd7-4e79-ee75-10d394578ce0"
      },
      "outputs": [
        {
          "name": "stdout",
          "output_type": "stream",
          "text": [
            "Enter scores: \n",
            "45 32 67 55 98 53 32 78 65 54 88\n"
          ]
        }
      ],
      "source": [
        "scores = list(input(\"Enter scores: \\n\").split())"
      ]
    },
    {
      "cell_type": "code",
      "source": [
        "max = scores[0]\n",
        "\n",
        "for i in scores:\n",
        "  if i > max:\n",
        "    max = i"
      ],
      "metadata": {
        "id": "b7PzzRJNKZx9"
      },
      "execution_count": 2,
      "outputs": []
    },
    {
      "cell_type": "code",
      "source": [
        "print(f\"The highest score is : {max}.\")"
      ],
      "metadata": {
        "colab": {
          "base_uri": "https://localhost:8080/"
        },
        "id": "5Wtv3h8aKZvG",
        "outputId": "a5cb68c6-a7a2-4c90-cf7d-0d86ce208c8a"
      },
      "execution_count": 3,
      "outputs": [
        {
          "output_type": "stream",
          "name": "stdout",
          "text": [
            "The highest score is : 98.\n"
          ]
        }
      ]
    },
    {
      "cell_type": "code",
      "source": [],
      "metadata": {
        "id": "czoDLVAVKZs8"
      },
      "execution_count": null,
      "outputs": []
    },
    {
      "cell_type": "code",
      "source": [],
      "metadata": {
        "id": "Y-7wNjndKZqq"
      },
      "execution_count": null,
      "outputs": []
    },
    {
      "cell_type": "code",
      "source": [],
      "metadata": {
        "id": "Uf4HWC59KZn6"
      },
      "execution_count": null,
      "outputs": []
    },
    {
      "cell_type": "code",
      "source": [],
      "metadata": {
        "id": "CvlaLyOQKZlf"
      },
      "execution_count": null,
      "outputs": []
    }
  ]
}
