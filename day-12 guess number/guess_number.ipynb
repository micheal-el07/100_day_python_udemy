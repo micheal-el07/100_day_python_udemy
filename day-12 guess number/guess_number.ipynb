{
 "cells": [
  {
   "cell_type": "code",
   "execution_count": 3,
   "metadata": {},
   "outputs": [],
   "source": [
    "import random"
   ]
  },
  {
   "cell_type": "code",
   "execution_count": null,
   "metadata": {},
   "outputs": [],
   "source": [
    "print(\"Hi, welcome to Guess the Number game.\")\n",
    "print(\"You will be required to guess a number within range of 1 to 20.\")\n",
    "print(\"You can choose easy mode where lives given is 10, and hard mode where lives given is 5.\")\n",
    "print(\"Goodluck\")"
   ]
  },
  {
   "cell_type": "code",
   "execution_count": 1,
   "metadata": {},
   "outputs": [],
   "source": [
    "lives = input(\"Select difficulty:(Easy or Hard)\")\n",
    "if lives.lower() == 'easy':\n",
    "    lives = 10\n",
    "else:\n",
    "    lives = 5"
   ]
  },
  {
   "cell_type": "code",
   "execution_count": 5,
   "metadata": {},
   "outputs": [
    {
     "name": "stdout",
     "output_type": "stream",
     "text": [
      "Awww, too low\n",
      "Congrats, you have won, the number is 15\n"
     ]
    }
   ],
   "source": [
    "is_correct = False\n",
    "number = random.randint(1, 20)\n",
    "\n",
    "while lives > 0 and not is_correct:\n",
    "    guess = int(input(\"Enter your guess:\"))\n",
    "\n",
    "    if guess == number:\n",
    "        print(f\"Congrats, you have won, the number is {number}\")\n",
    "        is_correct = True\n",
    "    elif guess > number:\n",
    "        print(f\"Whoops, too high\")\n",
    "        lives -= 1\n",
    "    elif guess < number:\n",
    "        print(f\"Awww, too low\")\n",
    "        lives -= 1"
   ]
  },
  {
   "cell_type": "code",
   "execution_count": null,
   "metadata": {},
   "outputs": [],
   "source": []
  },
  {
   "cell_type": "code",
   "execution_count": null,
   "metadata": {},
   "outputs": [],
   "source": []
  },
  {
   "cell_type": "code",
   "execution_count": null,
   "metadata": {},
   "outputs": [],
   "source": []
  },
  {
   "cell_type": "code",
   "execution_count": null,
   "metadata": {},
   "outputs": [],
   "source": []
  },
  {
   "cell_type": "code",
   "execution_count": null,
   "metadata": {},
   "outputs": [],
   "source": []
  }
 ],
 "metadata": {
  "kernelspec": {
   "display_name": "base",
   "language": "python",
   "name": "python3"
  },
  "language_info": {
   "codemirror_mode": {
    "name": "ipython",
    "version": 3
   },
   "file_extension": ".py",
   "mimetype": "text/x-python",
   "name": "python",
   "nbconvert_exporter": "python",
   "pygments_lexer": "ipython3",
   "version": "3.12.4"
  }
 },
 "nbformat": 4,
 "nbformat_minor": 2
}
