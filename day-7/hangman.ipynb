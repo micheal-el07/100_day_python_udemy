{
  "nbformat": 4,
  "nbformat_minor": 0,
  "metadata": {
    "colab": {
      "provenance": [],
      "authorship_tag": "ABX9TyNoBH9hwDi9IoT6VpfKBdFO",
      "include_colab_link": true
    },
    "kernelspec": {
      "name": "python3",
      "display_name": "Python 3"
    },
    "language_info": {
      "name": "python"
    }
  },
  "cells": [
    {
      "cell_type": "markdown",
      "metadata": {
        "id": "view-in-github",
        "colab_type": "text"
      },
      "source": [
        "<a href=\"https://colab.research.google.com/github/micheal-el07/100_day_python_udemy/blob/main/day-7/hangman.ipynb\" target=\"_parent\"><img src=\"https://colab.research.google.com/assets/colab-badge.svg\" alt=\"Open In Colab\"/></a>"
      ]
    },
    {
      "cell_type": "code",
      "source": [
        "import random"
      ],
      "metadata": {
        "id": "iSYAH_0-8EGY"
      },
      "execution_count": 29,
      "outputs": []
    },
    {
      "cell_type": "code",
      "execution_count": 94,
      "metadata": {
        "id": "uSY9-OHf5jwr"
      },
      "outputs": [],
      "source": [
        "hangman = ['H', 'A', 'N', 'G', 'M', 'A', 'N']\n",
        "words = [\"wash\", \"spray\", \"tackle\", \"dissect\", \"connection\", \"trying\"]"
      ]
    },
    {
      "cell_type": "code",
      "source": [
        "player_hangman = []\n",
        "for i in hangman:\n",
        "  player_hangman.append('_')"
      ],
      "metadata": {
        "id": "66QbdwK5NiB4"
      },
      "execution_count": 95,
      "outputs": []
    },
    {
      "cell_type": "code",
      "source": [
        "player_word = ''\n",
        "player_letter_list = []\n",
        "lives = 7\n"
      ],
      "metadata": {
        "id": "CcIWEOEv8tZy"
      },
      "execution_count": 96,
      "outputs": []
    },
    {
      "cell_type": "code",
      "source": [
        "player_hangman"
      ],
      "metadata": {
        "colab": {
          "base_uri": "https://localhost:8080/"
        },
        "id": "HPA3znSzNrmi",
        "outputId": "9a21d051-2f28-4533-a702-245d52e42501"
      },
      "execution_count": 97,
      "outputs": [
        {
          "output_type": "execute_result",
          "data": {
            "text/plain": [
              "['_', '_', '_', '_', '_', '_', '_']"
            ]
          },
          "metadata": {},
          "execution_count": 97
        }
      ]
    },
    {
      "cell_type": "code",
      "source": [
        "round_word = random.choice(words)\n",
        "round_word"
      ],
      "metadata": {
        "colab": {
          "base_uri": "https://localhost:8080/",
          "height": 35
        },
        "id": "sZtx-AAT8Gez",
        "outputId": "153daf3c-5311-4f4e-ba95-47e45ed8bcda"
      },
      "execution_count": 98,
      "outputs": [
        {
          "output_type": "execute_result",
          "data": {
            "text/plain": [
              "'spray'"
            ],
            "application/vnd.google.colaboratory.intrinsic+json": {
              "type": "string"
            }
          },
          "metadata": {},
          "execution_count": 98
        }
      ]
    },
    {
      "cell_type": "code",
      "source": [
        "for i in range(len(round_word)):\n",
        "  player_letter_list.append('_')"
      ],
      "metadata": {
        "id": "QJpvE5Q0AoOX"
      },
      "execution_count": 99,
      "outputs": []
    },
    {
      "cell_type": "code",
      "source": [
        "player_letter_list"
      ],
      "metadata": {
        "colab": {
          "base_uri": "https://localhost:8080/"
        },
        "id": "GhHlHnNyAssi",
        "outputId": "b763a2d9-4966-4b7c-ed4a-66675f6508d3"
      },
      "execution_count": 100,
      "outputs": [
        {
          "output_type": "execute_result",
          "data": {
            "text/plain": [
              "['_', '_', '_', '_', '_']"
            ]
          },
          "metadata": {},
          "execution_count": 100
        }
      ]
    },
    {
      "cell_type": "code",
      "source": [
        "round_word"
      ],
      "metadata": {
        "colab": {
          "base_uri": "https://localhost:8080/",
          "height": 35
        },
        "id": "xKgH-IyxBH5g",
        "outputId": "897dc195-a786-450c-8a6f-044d5ee3419a"
      },
      "execution_count": 101,
      "outputs": [
        {
          "output_type": "execute_result",
          "data": {
            "text/plain": [
              "'spray'"
            ],
            "application/vnd.google.colaboratory.intrinsic+json": {
              "type": "string"
            }
          },
          "metadata": {},
          "execution_count": 101
        }
      ]
    },
    {
      "cell_type": "code",
      "source": [
        "print(player_letter_list)\n",
        "while lives != 0 or player_word != round_word:\n",
        "\n",
        "  player_guess = input(\"Enter your letter:\")\n",
        "\n",
        "  if player_guess in round_word:\n",
        "    for i, word in enumerate(round_word):\n",
        "      if player_guess == word:\n",
        "        player_letter_list[i] = player_guess\n",
        "  else:\n",
        "    player_hangman[7-lives] = hangman[7-lives]\n",
        "    print(' '.join(player_hangman))\n",
        "    lives -= 1\n",
        "\n",
        "\n",
        "  player_word = ''.join(player_letter_list)\n",
        "  print(player_word)\n",
        "\n",
        "  if player_word == round_word:\n",
        "    print(\"Congrats!\")\n",
        "    break\n",
        "  elif lives == 0:\n",
        "    print(\"Whoops!\")\n",
        "    break"
      ],
      "metadata": {
        "colab": {
          "base_uri": "https://localhost:8080/",
          "height": 408
        },
        "id": "AgFSAhNN8m7w",
        "outputId": "d663e421-1e83-4e52-dda2-8e123c77615f"
      },
      "execution_count": 103,
      "outputs": [
        {
          "output_type": "stream",
          "name": "stdout",
          "text": [
            "['s', '_', '_', '_', '_']\n"
          ]
        },
        {
          "output_type": "error",
          "ename": "KeyboardInterrupt",
          "evalue": "ignored",
          "traceback": [
            "\u001b[0;31m---------------------------------------------------------------------------\u001b[0m",
            "\u001b[0;31mKeyboardInterrupt\u001b[0m                         Traceback (most recent call last)",
            "\u001b[0;32m<ipython-input-103-d9001d0edb4e>\u001b[0m in \u001b[0;36m<cell line: 2>\u001b[0;34m()\u001b[0m\n\u001b[1;32m      2\u001b[0m \u001b[0;32mwhile\u001b[0m \u001b[0mlives\u001b[0m \u001b[0;34m!=\u001b[0m \u001b[0;36m0\u001b[0m \u001b[0;32mor\u001b[0m \u001b[0mplayer_word\u001b[0m \u001b[0;34m!=\u001b[0m \u001b[0mround_word\u001b[0m\u001b[0;34m:\u001b[0m\u001b[0;34m\u001b[0m\u001b[0;34m\u001b[0m\u001b[0m\n\u001b[1;32m      3\u001b[0m \u001b[0;34m\u001b[0m\u001b[0m\n\u001b[0;32m----> 4\u001b[0;31m   \u001b[0mplayer_guess\u001b[0m \u001b[0;34m=\u001b[0m \u001b[0minput\u001b[0m\u001b[0;34m(\u001b[0m\u001b[0;34m\"Enter your letter:\"\u001b[0m\u001b[0;34m)\u001b[0m\u001b[0;34m\u001b[0m\u001b[0;34m\u001b[0m\u001b[0m\n\u001b[0m\u001b[1;32m      5\u001b[0m \u001b[0;34m\u001b[0m\u001b[0m\n\u001b[1;32m      6\u001b[0m   \u001b[0;32mif\u001b[0m \u001b[0mplayer_guess\u001b[0m \u001b[0;32min\u001b[0m \u001b[0mround_word\u001b[0m\u001b[0;34m:\u001b[0m\u001b[0;34m\u001b[0m\u001b[0;34m\u001b[0m\u001b[0m\n",
            "\u001b[0;32m/usr/local/lib/python3.10/dist-packages/ipykernel/kernelbase.py\u001b[0m in \u001b[0;36mraw_input\u001b[0;34m(self, prompt)\u001b[0m\n\u001b[1;32m    849\u001b[0m                 \u001b[0;34m\"raw_input was called, but this frontend does not support input requests.\"\u001b[0m\u001b[0;34m\u001b[0m\u001b[0;34m\u001b[0m\u001b[0m\n\u001b[1;32m    850\u001b[0m             )\n\u001b[0;32m--> 851\u001b[0;31m         return self._input_request(str(prompt),\n\u001b[0m\u001b[1;32m    852\u001b[0m             \u001b[0mself\u001b[0m\u001b[0;34m.\u001b[0m\u001b[0m_parent_ident\u001b[0m\u001b[0;34m,\u001b[0m\u001b[0;34m\u001b[0m\u001b[0;34m\u001b[0m\u001b[0m\n\u001b[1;32m    853\u001b[0m             \u001b[0mself\u001b[0m\u001b[0;34m.\u001b[0m\u001b[0m_parent_header\u001b[0m\u001b[0;34m,\u001b[0m\u001b[0;34m\u001b[0m\u001b[0;34m\u001b[0m\u001b[0m\n",
            "\u001b[0;32m/usr/local/lib/python3.10/dist-packages/ipykernel/kernelbase.py\u001b[0m in \u001b[0;36m_input_request\u001b[0;34m(self, prompt, ident, parent, password)\u001b[0m\n\u001b[1;32m    893\u001b[0m             \u001b[0;32mexcept\u001b[0m \u001b[0mKeyboardInterrupt\u001b[0m\u001b[0;34m:\u001b[0m\u001b[0;34m\u001b[0m\u001b[0;34m\u001b[0m\u001b[0m\n\u001b[1;32m    894\u001b[0m                 \u001b[0;31m# re-raise KeyboardInterrupt, to truncate traceback\u001b[0m\u001b[0;34m\u001b[0m\u001b[0;34m\u001b[0m\u001b[0m\n\u001b[0;32m--> 895\u001b[0;31m                 \u001b[0;32mraise\u001b[0m \u001b[0mKeyboardInterrupt\u001b[0m\u001b[0;34m(\u001b[0m\u001b[0;34m\"Interrupted by user\"\u001b[0m\u001b[0;34m)\u001b[0m \u001b[0;32mfrom\u001b[0m \u001b[0;32mNone\u001b[0m\u001b[0;34m\u001b[0m\u001b[0;34m\u001b[0m\u001b[0m\n\u001b[0m\u001b[1;32m    896\u001b[0m             \u001b[0;32mexcept\u001b[0m \u001b[0mException\u001b[0m \u001b[0;32mas\u001b[0m \u001b[0me\u001b[0m\u001b[0;34m:\u001b[0m\u001b[0;34m\u001b[0m\u001b[0;34m\u001b[0m\u001b[0m\n\u001b[1;32m    897\u001b[0m                 \u001b[0mself\u001b[0m\u001b[0;34m.\u001b[0m\u001b[0mlog\u001b[0m\u001b[0;34m.\u001b[0m\u001b[0mwarning\u001b[0m\u001b[0;34m(\u001b[0m\u001b[0;34m\"Invalid Message:\"\u001b[0m\u001b[0;34m,\u001b[0m \u001b[0mexc_info\u001b[0m\u001b[0;34m=\u001b[0m\u001b[0;32mTrue\u001b[0m\u001b[0;34m)\u001b[0m\u001b[0;34m\u001b[0m\u001b[0;34m\u001b[0m\u001b[0m\n",
            "\u001b[0;31mKeyboardInterrupt\u001b[0m: Interrupted by user"
          ]
        }
      ]
    },
    {
      "cell_type": "code",
      "source": [
        "player_hangman = []\n",
        "for i in hangman:\n",
        "  player_hangman.append('_')\n",
        "\n",
        "player_word = ''\n",
        "player_letter_list = []\n",
        "lives = 7\n",
        "\n",
        "round_word = random.choice(words)\n",
        "\n",
        "for i in range(len(round_word)):\n",
        "  player_letter_list.append('_')\n",
        "\n",
        "print(player_letter_list)\n",
        "while lives != 0 or player_word != round_word:\n",
        "\n",
        "  player_guess = input(\"Enter your letter:\")\n",
        "\n",
        "  if player_guess in round_word:\n",
        "    for i, word in enumerate(round_word):\n",
        "      if player_guess == word:\n",
        "        player_letter_list[i] = player_guess\n",
        "  else:\n",
        "    player_hangman[7-lives] = hangman[7-lives]\n",
        "    print(' '.join(player_hangman))\n",
        "    lives -= 1\n",
        "\n",
        "\n",
        "  player_word = ''.join(player_letter_list)\n",
        "  print(player_word)\n",
        "\n",
        "  if player_word == round_word:\n",
        "    print(\"Congrats!\")\n",
        "    break\n",
        "  elif lives == 0:\n",
        "    print(\"Whoops!\")\n",
        "    break"
      ],
      "metadata": {
        "colab": {
          "base_uri": "https://localhost:8080/"
        },
        "id": "pK_bi6EU9sQk",
        "outputId": "87661b96-e375-4d88-b3ab-942ff7d8b3fc"
      },
      "execution_count": 105,
      "outputs": [
        {
          "output_type": "stream",
          "name": "stdout",
          "text": [
            "['_', '_', '_', '_', '_', '_']\n",
            "Enter your letter:c\n",
            "__c___\n",
            "Enter your letter:e\n",
            "__c__e\n",
            "Enter your letter:t\n",
            "t_c__e\n",
            "Enter your letter:a\n",
            "tac__e\n",
            "Enter your letter:k\n",
            "tack_e\n",
            "Enter your letter:\n",
            "tack_e\n",
            "Enter your letter:l\n",
            "tackle\n",
            "Congrats!\n"
          ]
        }
      ]
    },
    {
      "cell_type": "code",
      "source": [],
      "metadata": {
        "id": "RO2Nvep9OfqW"
      },
      "execution_count": null,
      "outputs": []
    }
  ]
}