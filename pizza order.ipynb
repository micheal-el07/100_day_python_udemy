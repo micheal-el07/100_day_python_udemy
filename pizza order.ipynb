{
 "cells": [
  {
   "cell_type": "code",
   "execution_count": 3,
   "id": "582d1a41",
   "metadata": {},
   "outputs": [
    {
     "name": "stdout",
     "output_type": "stream",
     "text": [
      "l\n",
      "y\n",
      "y\n",
      "Your total price for the pizza is RM: 29.\n"
     ]
    }
   ],
   "source": [
    "size = input()\n",
    "add_pepperoni = input()\n",
    "extra_cheese = input()\n",
    "\n",
    "total = 0\n",
    "\n",
    "if size.lower() == 's':\n",
    "    total += 15\n",
    "    if add_pepperoni.lower() == 'y':\n",
    "        total += 2\n",
    "    if extra_cheese.lower() == 'y':\n",
    "        total +=1\n",
    "elif size.lower() == 'm':\n",
    "    total += 20\n",
    "    if add_pepperoni.lower() == 'y':\n",
    "        total += 3\n",
    "    if extra_cheese.lower() == 'y':\n",
    "        total +=1\n",
    "else:\n",
    "    total += 25\n",
    "    if add_pepperoni.lower() == 'y':\n",
    "        total += 3\n",
    "    if extra_cheese.lower() == 'y':\n",
    "        total +=1\n",
    "        \n",
    "print(f'Your total price for the pizza is RM: {total}.')"
   ]
  },
  {
   "cell_type": "code",
   "execution_count": 2,
   "id": "490515be",
   "metadata": {},
   "outputs": [
    {
     "name": "stdout",
     "output_type": "stream",
     "text": [
      "28\n"
     ]
    }
   ],
   "source": [
    "print(total)"
   ]
  },
  {
   "cell_type": "code",
   "execution_count": null,
   "id": "b4b50d71",
   "metadata": {},
   "outputs": [],
   "source": []
  }
 ],
 "metadata": {
  "kernelspec": {
   "display_name": "Python 3 (ipykernel)",
   "language": "python",
   "name": "python3"
  },
  "language_info": {
   "codemirror_mode": {
    "name": "ipython",
    "version": 3
   },
   "file_extension": ".py",
   "mimetype": "text/x-python",
   "name": "python",
   "nbconvert_exporter": "python",
   "pygments_lexer": "ipython3",
   "version": "3.11.4"
  }
 },
 "nbformat": 4,
 "nbformat_minor": 5
}
