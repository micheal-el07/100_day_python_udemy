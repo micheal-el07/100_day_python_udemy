{
 "cells": [
  {
   "cell_type": "markdown",
   "id": "7dfecb72-87eb-4f9c-89d4-6566caff2022",
   "metadata": {},
   "source": [
    "higher or lower\r\n",
    "\r\n",
    "ig_stars = array of 20 items, name with followers\r\n",
    "\r\n",
    "- user start game, highscore = 0, score=0\r\n",
    "- compare array of length two\r\n",
    "- random two item from the ig_stars\r\n",
    "- show one of the item followers\r\n",
    "- ask user to predict lower or higher\r\n",
    "\r\n",
    "- if right: \r\n",
    "remove the shown first item, add new random item from the ig_stars\r\n",
    "current_score + 1\r\n",
    "if current_score > highscore:\r\n",
    "highscore = current_score\r\n",
    "remove the added items from the ig_stars array\r\n",
    "\r\n",
    "- if wrong:\r\n",
    "if current_score > highscore:\r\n",
    "highscore = current_score\r\n",
    "current_score = 0\r\n",
    "clear to_predict array\r\n"
   ]
  },
  {
   "cell_type": "code",
   "execution_count": 42,
   "id": "ef9b3f72-588e-44aa-9840-2841fc183bb8",
   "metadata": {},
   "outputs": [],
   "source": [
    "# Lists of artist and their followers\n",
    "ig_stars = [(\"Anthony Mackie\",\"New Capt\", 2300000),  \n",
    "            (\"Brie Larson\", \"Capt Marvel\", 6700000),  \n",
    "            (\"Samuel L. Jackson\", \"Nick Fury\", 7300000),\n",
    "            (\"Zoe Saldana\", \"Gamora\", 7500000) ,\n",
    "            (\"Sebastian Stan\", \"Bucky\", 7800000),\n",
    "            (\"Chadwick Boseman\", \"TChalla\", 11000000),\n",
    "            (\"Chris Evans\", \"Capt\", 11700000),\n",
    "            (\"Jeremy Renner\", \"Hawkeye\", 15700000),\n",
    "            (\"Mark Ruffalo\", \"Bucky\", 19900000),\n",
    "            (\"Chris Pratt\", \"Star Lord\", 31500000)]"
   ]
  },
  {
   "cell_type": "code",
   "execution_count": 44,
   "id": "4c55aded-aa64-4bfd-9e94-d60d2468005c",
   "metadata": {},
   "outputs": [
    {
     "data": {
      "text/plain": [
       "'New Capt'"
      ]
     },
     "execution_count": 44,
     "metadata": {},
     "output_type": "execute_result"
    }
   ],
   "source": [
    "ig_stars[0][1]"
   ]
  },
  {
   "cell_type": "code",
   "execution_count": null,
   "id": "062a8982-a8fe-4976-941e-29423dcd8634",
   "metadata": {},
   "outputs": [],
   "source": []
  },
  {
   "cell_type": "code",
   "execution_count": null,
   "id": "cc6232e9-dcf7-4638-bdc6-a54a010f710d",
   "metadata": {},
   "outputs": [],
   "source": []
  },
  {
   "cell_type": "code",
   "execution_count": null,
   "id": "c49de7f5-25b1-4aa9-9dd9-20004ce66c75",
   "metadata": {},
   "outputs": [],
   "source": []
  },
  {
   "cell_type": "code",
   "execution_count": null,
   "id": "a8c5663b-c992-4f74-aa48-d2d5161cc189",
   "metadata": {},
   "outputs": [],
   "source": []
  },
  {
   "cell_type": "code",
   "execution_count": null,
   "id": "f4d05589-0812-4799-bc23-bc80338eec95",
   "metadata": {},
   "outputs": [],
   "source": []
  },
  {
   "cell_type": "code",
   "execution_count": null,
   "id": "5bfd60e7-767e-4222-8b38-8de9631bc9a3",
   "metadata": {},
   "outputs": [],
   "source": []
  },
  {
   "cell_type": "code",
   "execution_count": null,
   "id": "53a9e8f7-16e6-4067-9236-f59f2106b037",
   "metadata": {},
   "outputs": [],
   "source": []
  },
  {
   "cell_type": "code",
   "execution_count": null,
   "id": "8533f9c2-196e-407e-ae82-4c011d831e48",
   "metadata": {},
   "outputs": [],
   "source": []
  },
  {
   "cell_type": "code",
   "execution_count": null,
   "id": "3980fa72-dcd5-438e-aebe-65b8048d49a3",
   "metadata": {},
   "outputs": [],
   "source": []
  },
  {
   "cell_type": "code",
   "execution_count": null,
   "id": "382d9d6e-973f-4862-9822-fcab5a2c26d1",
   "metadata": {},
   "outputs": [],
   "source": []
  },
  {
   "cell_type": "code",
   "execution_count": null,
   "id": "d6588562-f2fe-436e-a16c-5569907456ab",
   "metadata": {},
   "outputs": [],
   "source": []
  },
  {
   "cell_type": "code",
   "execution_count": null,
   "id": "f4a9f15a-ab4d-4e12-8095-25607cb9dcdf",
   "metadata": {},
   "outputs": [],
   "source": []
  },
  {
   "cell_type": "code",
   "execution_count": null,
   "id": "a0a75fa8-844a-4599-ab8c-b339e837df66",
   "metadata": {},
   "outputs": [],
   "source": []
  },
  {
   "cell_type": "code",
   "execution_count": null,
   "id": "5a3539b5-c812-48a3-a5d2-5942a35653cf",
   "metadata": {},
   "outputs": [],
   "source": []
  },
  {
   "cell_type": "code",
   "execution_count": null,
   "id": "0d05547d-0bf6-4054-8af9-b9cde00f70ef",
   "metadata": {},
   "outputs": [],
   "source": []
  },
  {
   "cell_type": "code",
   "execution_count": null,
   "id": "cd8b9a32-daf6-43f6-8df1-74e9ac4b9517",
   "metadata": {},
   "outputs": [],
   "source": []
  },
  {
   "cell_type": "code",
   "execution_count": null,
   "id": "6ca2eb6a-206e-4c6c-a0a9-6bf027d5dccf",
   "metadata": {},
   "outputs": [],
   "source": []
  },
  {
   "cell_type": "code",
   "execution_count": null,
   "id": "563cdee2-9d39-425a-8a83-0882d1d25d10",
   "metadata": {},
   "outputs": [],
   "source": []
  },
  {
   "cell_type": "code",
   "execution_count": null,
   "id": "1cbe3c4b-37de-413f-8ff5-87f857590a4d",
   "metadata": {},
   "outputs": [],
   "source": []
  },
  {
   "cell_type": "code",
   "execution_count": null,
   "id": "31801520-a30a-4adf-a3f5-d89ec95352c8",
   "metadata": {},
   "outputs": [],
   "source": []
  },
  {
   "cell_type": "code",
   "execution_count": null,
   "id": "11272e8d-c88d-4094-b478-366230a1049b",
   "metadata": {},
   "outputs": [],
   "source": []
  },
  {
   "cell_type": "code",
   "execution_count": null,
   "id": "4a562fd3-4fbd-4bd3-97ba-b93105bfdfcf",
   "metadata": {},
   "outputs": [],
   "source": []
  },
  {
   "cell_type": "code",
   "execution_count": null,
   "id": "3aa085a6-0e1e-47aa-b616-e4c52f04e888",
   "metadata": {},
   "outputs": [],
   "source": []
  },
  {
   "cell_type": "code",
   "execution_count": null,
   "id": "2c772cdb-cc9d-403e-9dc7-2529a86a6cc4",
   "metadata": {},
   "outputs": [],
   "source": []
  },
  {
   "cell_type": "code",
   "execution_count": null,
   "id": "42f95583-6131-4892-a9f7-8ad41096ac60",
   "metadata": {},
   "outputs": [],
   "source": []
  },
  {
   "cell_type": "code",
   "execution_count": null,
   "id": "7c216d23-dc41-4518-828e-51fdd8fc8ab3",
   "metadata": {},
   "outputs": [],
   "source": []
  },
  {
   "cell_type": "code",
   "execution_count": null,
   "id": "e1482048-0790-433b-b8dd-b65d6067843c",
   "metadata": {},
   "outputs": [],
   "source": []
  },
  {
   "cell_type": "code",
   "execution_count": null,
   "id": "68b31d75-4d8f-442e-958e-00e798779026",
   "metadata": {},
   "outputs": [],
   "source": []
  },
  {
   "cell_type": "code",
   "execution_count": null,
   "id": "554dde56-8a08-43b8-8df7-17c2da47c122",
   "metadata": {},
   "outputs": [],
   "source": []
  },
  {
   "cell_type": "code",
   "execution_count": null,
   "id": "06b2656b-fc1c-47b9-9d32-5bc0a23151d9",
   "metadata": {},
   "outputs": [],
   "source": []
  },
  {
   "cell_type": "code",
   "execution_count": null,
   "id": "1f8bc1dd-1d67-4cf9-85e9-650935fa3537",
   "metadata": {},
   "outputs": [],
   "source": []
  },
  {
   "cell_type": "code",
   "execution_count": null,
   "id": "0f6f7cb1-5bad-4dec-a14a-3a31ebad5623",
   "metadata": {},
   "outputs": [],
   "source": []
  },
  {
   "cell_type": "code",
   "execution_count": null,
   "id": "2d9c0ec0-1e68-4413-83b3-3d9260998335",
   "metadata": {},
   "outputs": [],
   "source": []
  },
  {
   "cell_type": "code",
   "execution_count": null,
   "id": "f8540872-8405-4a53-9601-8add34d266b8",
   "metadata": {},
   "outputs": [],
   "source": []
  },
  {
   "cell_type": "code",
   "execution_count": null,
   "id": "cf31f567-02d9-4647-9588-54eb2376a2ac",
   "metadata": {},
   "outputs": [],
   "source": []
  },
  {
   "cell_type": "code",
   "execution_count": null,
   "id": "3befade1-2f8f-44db-b646-06ddd1d98500",
   "metadata": {},
   "outputs": [],
   "source": []
  },
  {
   "cell_type": "code",
   "execution_count": null,
   "id": "75123b62-8977-483b-8abd-e5527b3f2a6f",
   "metadata": {},
   "outputs": [],
   "source": []
  }
 ],
 "metadata": {
  "kernelspec": {
   "display_name": "Python 3 (ipykernel)",
   "language": "python",
   "name": "python3"
  },
  "language_info": {
   "codemirror_mode": {
    "name": "ipython",
    "version": 3
   },
   "file_extension": ".py",
   "mimetype": "text/x-python",
   "name": "python",
   "nbconvert_exporter": "python",
   "pygments_lexer": "ipython3",
   "version": "3.12.4"
  }
 },
 "nbformat": 4,
 "nbformat_minor": 5
}
