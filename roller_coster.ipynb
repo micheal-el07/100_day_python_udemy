{
  "nbformat": 4,
  "nbformat_minor": 0,
  "metadata": {
    "colab": {
      "provenance": [],
      "authorship_tag": "ABX9TyO+r/iNyaLxCadKU1tpLRfP",
      "include_colab_link": true
    },
    "kernelspec": {
      "name": "python3",
      "display_name": "Python 3"
    },
    "language_info": {
      "name": "python"
    }
  },
  "cells": [
    {
      "cell_type": "markdown",
      "metadata": {
        "id": "view-in-github",
        "colab_type": "text"
      },
      "source": [
        "<a href=\"https://colab.research.google.com/github/micheal-el07/100_day_python_udemy/blob/main/roller_coster.ipynb\" target=\"_parent\"><img src=\"https://colab.research.google.com/assets/colab-badge.svg\" alt=\"Open In Colab\"/></a>"
      ]
    },
    {
      "cell_type": "code",
      "execution_count": 2,
      "metadata": {
        "colab": {
          "base_uri": "https://localhost:8080/"
        },
        "id": "wV8wmCxo2J5j",
        "outputId": "8740986a-3208-4186-d1dd-e863e48bbdfd"
      },
      "outputs": [
        {
          "name": "stdout",
          "output_type": "stream",
          "text": [
            "Enter your height: 177\n",
            "Enter your age: 23\n"
          ]
        }
      ],
      "source": [
        "height = float(input(\"Enter your height: \"))\n",
        "age = int(input(\"Enter your age: \"))"
      ]
    },
    {
      "cell_type": "code",
      "source": [
        "if height > 120:\n",
        "  if age < 12:\n",
        "    ticket = 5\n",
        "  elif age >= 12 and age < 18:\n",
        "    ticket = 7\n",
        "  elif age >= 18 and age < 45:\n",
        "    ticket = 12\n",
        "  else:\n",
        "    ticket = 0\n",
        "\n",
        "else:\n",
        "  print(\"You cannot ride the roller coster!\")\n",
        "\n",
        "photo = 0\n",
        "\n",
        "wphoto = input(\"Do you want photo taken?\")\n",
        "if wphoto.lower() == 'y':\n",
        "  photo = 3\n",
        "else:\n",
        "  photo = 0\n",
        "\n",
        "total = ticket + photo"
      ],
      "metadata": {
        "colab": {
          "base_uri": "https://localhost:8080/"
        },
        "id": "xzbskc7b2XUX",
        "outputId": "e792641a-6fd8-4e01-e0fc-8cece66fddae"
      },
      "execution_count": 6,
      "outputs": [
        {
          "name": "stdout",
          "output_type": "stream",
          "text": [
            "Do you want photo taken?y\n"
          ]
        }
      ]
    },
    {
      "cell_type": "code",
      "source": [
        "print(f'Total price is {total}')"
      ],
      "metadata": {
        "colab": {
          "base_uri": "https://localhost:8080/"
        },
        "id": "ZcPurWu42XXb",
        "outputId": "071174cb-d624-435a-9026-1eb4b6ab77c8"
      },
      "execution_count": 7,
      "outputs": [
        {
          "output_type": "stream",
          "name": "stdout",
          "text": [
            "Total price is 15\n"
          ]
        }
      ]
    },
    {
      "cell_type": "code",
      "source": [],
      "metadata": {
        "id": "io3VYcn22Xar"
      },
      "execution_count": null,
      "outputs": []
    },
    {
      "cell_type": "code",
      "source": [],
      "metadata": {
        "id": "i3wzeziQ2Xdk"
      },
      "execution_count": null,
      "outputs": []
    },
    {
      "cell_type": "code",
      "source": [],
      "metadata": {
        "id": "CATPQ0_W2XiS"
      },
      "execution_count": null,
      "outputs": []
    },
    {
      "cell_type": "code",
      "source": [],
      "metadata": {
        "id": "gQgfiPIx2Xkm"
      },
      "execution_count": null,
      "outputs": []
    },
    {
      "cell_type": "code",
      "source": [],
      "metadata": {
        "id": "mcGUioaU2XzZ"
      },
      "execution_count": null,
      "outputs": []
    },
    {
      "cell_type": "code",
      "source": [],
      "metadata": {
        "id": "gOSiswv82X1t"
      },
      "execution_count": null,
      "outputs": []
    },
    {
      "cell_type": "code",
      "source": [],
      "metadata": {
        "id": "riuNhkXl2X30"
      },
      "execution_count": null,
      "outputs": []
    },
    {
      "cell_type": "code",
      "source": [],
      "metadata": {
        "id": "Yf2vY_sk2X6Z"
      },
      "execution_count": null,
      "outputs": []
    }
  ]
}