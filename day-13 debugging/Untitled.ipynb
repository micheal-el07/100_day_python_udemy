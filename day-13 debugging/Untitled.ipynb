{
 "cells": [
  {
   "cell_type": "code",
   "execution_count": 1,
   "id": "efafe1b5-9295-40bb-929d-1d33b54e63f8",
   "metadata": {},
   "outputs": [],
   "source": [
    "def my_function():\n",
    "    for i in range(1, 20):\n",
    "        if i == 20:\n",
    "            print(\"You got it\")\n",
    "my_function()"
   ]
  },
  {
   "cell_type": "markdown",
   "id": "a369aee0-da0f-464d-a87a-cb38d244d066",
   "metadata": {},
   "source": [
    "#### 1 Describe the Problem - Write your answers as comments:\n",
    "1. What is the for loop doing?\n",
    "Its loop from 1-19, 20 is excluded\n",
    "2. When is the function meant to print \"You got it\"?\n",
    "3. What are your assumptions about the value of i?"
   ]
  },
  {
   "cell_type": "markdown",
   "id": "4b7a6476-3541-4449-b936-3eea48f2746e",
   "metadata": {},
   "source": [
    "#### 2. Reproduce the bug."
   ]
  },
  {
   "cell_type": "code",
   "execution_count": 92,
   "id": "efa0b880-4b85-4287-b464-d24560f9daa9",
   "metadata": {},
   "outputs": [
    {
     "name": "stdout",
     "output_type": "stream",
     "text": [
      "3\n"
     ]
    }
   ],
   "source": [
    "from random import randint\n",
    "dice_images = [\"1\", \"2\", \"3\", \"4\", \"5\", \"6\"]\n",
    "dice_num = randint(0, 5)\n",
    "print(dice_images[dice_num])"
   ]
  },
  {
   "cell_type": "markdown",
   "id": "89a10b6a-dfb0-47a2-a7d1-e5b285df5b3c",
   "metadata": {},
   "source": [
    "#### 3. Play computer"
   ]
  },
  {
   "cell_type": "code",
   "execution_count": 98,
   "id": "642ace9a-27f3-4cf5-9334-85f9bc1a36b0",
   "metadata": {},
   "outputs": [
    {
     "name": "stdin",
     "output_type": "stream",
     "text": [
      "What's your year of birth? 1994\n"
     ]
    },
    {
     "name": "stdout",
     "output_type": "stream",
     "text": [
      "You are Gen Z\n"
     ]
    }
   ],
   "source": [
    "year = int(input(\"What's your year of birth?\"))\n",
    "\n",
    "if year > 1980 and year < 1994:\n",
    "    print(\"You are millenial\")\n",
    "elif year >= 1994:\n",
    "    print(\"You are Gen Z\")"
   ]
  },
  {
   "cell_type": "code",
   "execution_count": null,
   "id": "e92410cc-2105-4ad5-99c7-1b0c3d80bc4a",
   "metadata": {},
   "outputs": [],
   "source": []
  },
  {
   "cell_type": "markdown",
   "id": "4c854ce1-d6a3-4231-87f9-5122f722970f",
   "metadata": {},
   "source": [
    "#### 4. Look for the red lines"
   ]
  },
  {
   "cell_type": "code",
   "execution_count": 103,
   "id": "4d8c6f72-16b6-4cac-a48f-f216ecb200c3",
   "metadata": {},
   "outputs": [
    {
     "name": "stdin",
     "output_type": "stream",
     "text": [
      "Enter your age:  ten\n"
     ]
    },
    {
     "ename": "ValueError",
     "evalue": "invalid literal for int() with base 10: 'ten'",
     "output_type": "error",
     "traceback": [
      "\u001b[1;31m---------------------------------------------------------------------------\u001b[0m",
      "\u001b[1;31mValueError\u001b[0m                                Traceback (most recent call last)",
      "Cell \u001b[1;32mIn[103], line 1\u001b[0m\n\u001b[1;32m----> 1\u001b[0m age \u001b[38;5;241m=\u001b[39m \u001b[38;5;28mint\u001b[39m(\u001b[38;5;28minput\u001b[39m(\u001b[38;5;124m\"\u001b[39m\u001b[38;5;124mEnter your age: \u001b[39m\u001b[38;5;124m\"\u001b[39m))\n\u001b[0;32m      2\u001b[0m \u001b[38;5;66;03m# it can cause error if the user input something like 'twelve'\u001b[39;00m\n\u001b[0;32m      4\u001b[0m \u001b[38;5;28;01mif\u001b[39;00m age \u001b[38;5;241m>\u001b[39m \u001b[38;5;241m18\u001b[39m:\n",
      "\u001b[1;31mValueError\u001b[0m: invalid literal for int() with base 10: 'ten'"
     ]
    }
   ],
   "source": [
    "age = int(input(\"Enter your age: \"))\n",
    "# it can cause error if the user input something like 'twelve'\n",
    "\n",
    "if age > 18:\n",
    "    print(f\"You can drive at age of {age}.\")"
   ]
  },
  {
   "cell_type": "code",
   "execution_count": 115,
   "id": "056369fc-72ca-4ee4-a407-40c7ad137932",
   "metadata": {},
   "outputs": [
    {
     "name": "stdin",
     "output_type": "stream",
     "text": [
      "Enter your age:  ten\n"
     ]
    },
    {
     "name": "stdout",
     "output_type": "stream",
     "text": [
      "You have entered input other than number, please enter a digit\n"
     ]
    },
    {
     "name": "stdin",
     "output_type": "stream",
     "text": [
      "Enter your age:  10\n"
     ]
    },
    {
     "name": "stdout",
     "output_type": "stream",
     "text": [
      "You are under age\n"
     ]
    }
   ],
   "source": [
    "# Solution is to use try... except\n",
    "def take_age():\n",
    "    try:\n",
    "        age = int(input(\"Enter your age: \"))\n",
    "        # it can cause error if the user input something like 'twelve'\n",
    "    except ValueError:\n",
    "        print(\"You have entered input other than number, please enter a digit\")\n",
    "        age = take_age()\n",
    "    return age\n",
    "        \n",
    "age = take_age()\n",
    "\n",
    "if age > 18:\n",
    "    print(f\"You can drive at age of {age}.\")\n",
    "else:\n",
    "    print(\"You are under age\")"
   ]
  },
  {
   "cell_type": "code",
   "execution_count": null,
   "id": "33a8d3de-6e9f-4145-a1b8-396c138bffcf",
   "metadata": {},
   "outputs": [],
   "source": []
  },
  {
   "cell_type": "markdown",
   "id": "f68f9932-b686-44ef-85f2-4d1b9377fc52",
   "metadata": {},
   "source": [
    "#### 5. Use print()"
   ]
  },
  {
   "cell_type": "code",
   "execution_count": null,
   "id": "015cd838-f316-4d0c-897d-309dca31cfd9",
   "metadata": {},
   "outputs": [],
   "source": []
  },
  {
   "cell_type": "markdown",
   "id": "6db9d551-7ca8-4945-aff2-a01af3dbabd0",
   "metadata": {},
   "source": [
    "#### 6. Use debugger"
   ]
  },
  {
   "cell_type": "code",
   "execution_count": 122,
   "id": "fb1cd12a-8a5d-4935-a06d-c2057d0b07f4",
   "metadata": {},
   "outputs": [],
   "source": [
    "def adder(num_1, num_2):\n",
    "    return num_1 + num_2"
   ]
  },
  {
   "cell_type": "code",
   "execution_count": 124,
   "id": "1c95c4d6-2919-4d38-ac7b-f7be36f3e839",
   "metadata": {},
   "outputs": [
    {
     "name": "stdout",
     "output_type": "stream",
     "text": [
      "[41]\n"
     ]
    }
   ],
   "source": [
    "import random\n",
    "\n",
    "def mutate(a_list):\n",
    "    b_list = []\n",
    "    new_item = 0\n",
    "\n",
    "    for item in a_list:\n",
    "        new_item = item * 2\n",
    "        new_item += random.randint(1, 3)\n",
    "        new_item = adder(new_item, item)\n",
    "\n",
    "    b_list.append(new_item)\n",
    "    print(b_list)\n",
    "\n",
    "mutate([1,2,3,5,8,13])"
   ]
  },
  {
   "cell_type": "code",
   "execution_count": null,
   "id": "4990b4be-74c6-47d4-964f-7e4bd3a3b6d2",
   "metadata": {},
   "outputs": [],
   "source": []
  },
  {
   "cell_type": "code",
   "execution_count": null,
   "id": "53d96092-6c79-4c70-b900-ce2c6729572d",
   "metadata": {},
   "outputs": [],
   "source": []
  },
  {
   "cell_type": "code",
   "execution_count": null,
   "id": "db3c8244-0950-4587-8586-d880f457f366",
   "metadata": {},
   "outputs": [],
   "source": []
  },
  {
   "cell_type": "code",
   "execution_count": null,
   "id": "e9abfea0-43c7-43b0-86ef-3570dacb795b",
   "metadata": {},
   "outputs": [],
   "source": []
  },
  {
   "cell_type": "code",
   "execution_count": null,
   "id": "216f6ba9-c50a-4290-9a24-b4fa4566c0a6",
   "metadata": {},
   "outputs": [],
   "source": []
  },
  {
   "cell_type": "code",
   "execution_count": null,
   "id": "7bcfcbea-fb63-4528-a2e0-bb240014a0f9",
   "metadata": {},
   "outputs": [],
   "source": []
  },
  {
   "cell_type": "code",
   "execution_count": null,
   "id": "d19ac6f5-5472-4637-b7de-f142b52f7790",
   "metadata": {},
   "outputs": [],
   "source": []
  },
  {
   "cell_type": "code",
   "execution_count": null,
   "id": "28fcf475-8e34-44df-be7e-391ea9c5e0ae",
   "metadata": {},
   "outputs": [],
   "source": []
  },
  {
   "cell_type": "code",
   "execution_count": null,
   "id": "ccb8515e-e410-424d-846e-d2802c60bac2",
   "metadata": {},
   "outputs": [],
   "source": []
  },
  {
   "cell_type": "code",
   "execution_count": null,
   "id": "a666383b-49b4-413c-a980-a87d80546433",
   "metadata": {},
   "outputs": [],
   "source": []
  },
  {
   "cell_type": "code",
   "execution_count": null,
   "id": "159f7679-a34b-4dda-86ad-948e0ac9e424",
   "metadata": {},
   "outputs": [],
   "source": []
  },
  {
   "cell_type": "code",
   "execution_count": null,
   "id": "e3751daf-c9af-4b9d-9646-e9c99ef9fde1",
   "metadata": {},
   "outputs": [],
   "source": []
  },
  {
   "cell_type": "code",
   "execution_count": null,
   "id": "ba8548d9-b46c-4a48-a889-3fb79b0513b7",
   "metadata": {},
   "outputs": [],
   "source": []
  }
 ],
 "metadata": {
  "kernelspec": {
   "display_name": "Python 3 (ipykernel)",
   "language": "python",
   "name": "python3"
  },
  "language_info": {
   "codemirror_mode": {
    "name": "ipython",
    "version": 3
   },
   "file_extension": ".py",
   "mimetype": "text/x-python",
   "name": "python",
   "nbconvert_exporter": "python",
   "pygments_lexer": "ipython3",
   "version": "3.12.4"
  }
 },
 "nbformat": 4,
 "nbformat_minor": 5
}
